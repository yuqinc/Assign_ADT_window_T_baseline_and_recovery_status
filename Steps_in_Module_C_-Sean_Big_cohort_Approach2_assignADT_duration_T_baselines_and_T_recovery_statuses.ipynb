{
 "cells": [
  {
   "cell_type": "markdown",
   "metadata": {},
   "source": [
    "# README.md"
   ]
  },
  {
   "cell_type": "code",
   "execution_count": 53,
   "metadata": {},
   "outputs": [],
   "source": [
    "## Research question: For the approach #2 big cohort, how many have ADT window assgined, \n",
    "## with T baseline, and have T recovery and non-recovery status? \n",
    "\n",
    "## Table of Contents"
   ]
  },
  {
   "cell_type": "markdown",
   "metadata": {},
   "source": [
    "# Step1, read from spreadsheet, clean up, and get statistics"
   ]
  },
  {
   "cell_type": "code",
   "execution_count": 54,
   "metadata": {},
   "outputs": [],
   "source": [
    "import numpy as np\n",
    "from pandas import DataFrame\n",
    "\n",
    "import pandas as pd\n",
    "import sys, getopt\n",
    "import csv\n",
    "from datetime import datetime\n",
    "from datetime import timedelta, date\n",
    "import itertools\n",
    "\n",
    "from matplotlib import pyplot\n",
    "from pylab import *\n",
    "import matplotlib.pyplot as plt\n",
    "\n",
    "%matplotlib inline  \n",
    "import seaborn as sns"
   ]
  },
  {
   "cell_type": "code",
   "execution_count": 55,
   "metadata": {},
   "outputs": [
    {
     "data": {
      "text/html": [
       "<div>\n",
       "<style scoped>\n",
       "    .dataframe tbody tr th:only-of-type {\n",
       "        vertical-align: middle;\n",
       "    }\n",
       "\n",
       "    .dataframe tbody tr th {\n",
       "        vertical-align: top;\n",
       "    }\n",
       "\n",
       "    .dataframe thead th {\n",
       "        text-align: right;\n",
       "    }\n",
       "</style>\n",
       "<table border=\"1\" class=\"dataframe\">\n",
       "  <thead>\n",
       "    <tr style=\"text-align: right;\">\n",
       "      <th></th>\n",
       "      <th>person_id</th>\n",
       "      <th>cancer_type_id</th>\n",
       "      <th>year_of_diagnosis</th>\n",
       "      <th>month_of_diagnosis</th>\n",
       "      <th>day_of_diagnosis</th>\n",
       "      <th>dx_date</th>\n",
       "      <th>result_date</th>\n",
       "      <th>loinc_code</th>\n",
       "      <th>source_test_name</th>\n",
       "      <th>test_results</th>\n",
       "    </tr>\n",
       "  </thead>\n",
       "  <tbody>\n",
       "    <tr>\n",
       "      <td>0</td>\n",
       "      <td>2</td>\n",
       "      <td>2</td>\n",
       "      <td>2003</td>\n",
       "      <td>1.0</td>\n",
       "      <td>7.0</td>\n",
       "      <td>2003-01-07</td>\n",
       "      <td>2006-09-05</td>\n",
       "      <td>49041-7</td>\n",
       "      <td>TESTOSTERONE</td>\n",
       "      <td>351.0</td>\n",
       "    </tr>\n",
       "    <tr>\n",
       "      <td>1</td>\n",
       "      <td>2</td>\n",
       "      <td>2</td>\n",
       "      <td>2003</td>\n",
       "      <td>1.0</td>\n",
       "      <td>7.0</td>\n",
       "      <td>2003-01-07</td>\n",
       "      <td>2007-01-09</td>\n",
       "      <td>49041-7</td>\n",
       "      <td>TESTOSTERONE</td>\n",
       "      <td>304.0</td>\n",
       "    </tr>\n",
       "    <tr>\n",
       "      <td>2</td>\n",
       "      <td>2</td>\n",
       "      <td>2</td>\n",
       "      <td>2003</td>\n",
       "      <td>1.0</td>\n",
       "      <td>7.0</td>\n",
       "      <td>2003-01-07</td>\n",
       "      <td>2007-05-17</td>\n",
       "      <td>49041-7</td>\n",
       "      <td>TESTOSTERONE</td>\n",
       "      <td>259.0</td>\n",
       "    </tr>\n",
       "    <tr>\n",
       "      <td>3</td>\n",
       "      <td>2</td>\n",
       "      <td>2</td>\n",
       "      <td>2003</td>\n",
       "      <td>1.0</td>\n",
       "      <td>7.0</td>\n",
       "      <td>2003-01-07</td>\n",
       "      <td>2007-06-12</td>\n",
       "      <td>49041-7</td>\n",
       "      <td>TESTOSTERONE</td>\n",
       "      <td>382.0</td>\n",
       "    </tr>\n",
       "    <tr>\n",
       "      <td>4</td>\n",
       "      <td>2</td>\n",
       "      <td>2</td>\n",
       "      <td>2003</td>\n",
       "      <td>1.0</td>\n",
       "      <td>7.0</td>\n",
       "      <td>2003-01-07</td>\n",
       "      <td>2007-06-28</td>\n",
       "      <td>49041-7</td>\n",
       "      <td>TESTOSTERONE</td>\n",
       "      <td>439.0</td>\n",
       "    </tr>\n",
       "  </tbody>\n",
       "</table>\n",
       "</div>"
      ],
      "text/plain": [
       "   person_id  cancer_type_id  year_of_diagnosis  month_of_diagnosis  \\\n",
       "0          2               2               2003                 1.0   \n",
       "1          2               2               2003                 1.0   \n",
       "2          2               2               2003                 1.0   \n",
       "3          2               2               2003                 1.0   \n",
       "4          2               2               2003                 1.0   \n",
       "\n",
       "   day_of_diagnosis    dx_date result_date loinc_code source_test_name  \\\n",
       "0               7.0 2003-01-07  2006-09-05    49041-7     TESTOSTERONE   \n",
       "1               7.0 2003-01-07  2007-01-09    49041-7     TESTOSTERONE   \n",
       "2               7.0 2003-01-07  2007-05-17    49041-7     TESTOSTERONE   \n",
       "3               7.0 2003-01-07  2007-06-12    49041-7     TESTOSTERONE   \n",
       "4               7.0 2003-01-07  2007-06-28    49041-7     TESTOSTERONE   \n",
       "\n",
       "   test_results  \n",
       "0         351.0  \n",
       "1         304.0  \n",
       "2         259.0  \n",
       "3         382.0  \n",
       "4         439.0  "
      ]
     },
     "execution_count": 55,
     "metadata": {},
     "output_type": "execute_result"
    }
   ],
   "source": [
    "df1=pd.read_excel(\"./data/sean_table_feb10_prostate_byml_ADT_v25.xlsx\", header=0)\n",
    "df1.replace(r'', np.NaN)\n",
    "#df1.fillna('', inplace=True)\n",
    "#df1['inital_ADT_end_date'] = pd.to_datetime(df1['inital_ADT_end_date'])\n",
    "\n",
    "df_test=pd.read_excel(\"./data/pca_tresults_20210119_BP_fixed.xlsx\", header=0)\n",
    "#df3=pd.read_csv(\"just_start_empty.csv\", header=0)\n",
    "df_test.replace(r'', np.NaN)\n",
    "df_test[:5]"
   ]
  },
  {
   "cell_type": "code",
   "execution_count": 56,
   "metadata": {},
   "outputs": [
    {
     "name": "stdout",
     "output_type": "stream",
     "text": [
      "(80490, 12)\n",
      "(18643, 10)\n"
     ]
    }
   ],
   "source": [
    "print(shape(df1))\n",
    "print(shape(df_test))"
   ]
  },
  {
   "cell_type": "code",
   "execution_count": 57,
   "metadata": {},
   "outputs": [
    {
     "data": {
      "text/html": [
       "<div>\n",
       "<style scoped>\n",
       "    .dataframe tbody tr th:only-of-type {\n",
       "        vertical-align: middle;\n",
       "    }\n",
       "\n",
       "    .dataframe tbody tr th {\n",
       "        vertical-align: top;\n",
       "    }\n",
       "\n",
       "    .dataframe thead th {\n",
       "        text-align: right;\n",
       "    }\n",
       "</style>\n",
       "<table border=\"1\" class=\"dataframe\">\n",
       "  <thead>\n",
       "    <tr style=\"text-align: right;\">\n",
       "      <th></th>\n",
       "      <th>person_id</th>\n",
       "      <th>dxdate</th>\n",
       "      <th>dx_year</th>\n",
       "      <th>source_from</th>\n",
       "      <th>evidence</th>\n",
       "      <th>hormone_therapy</th>\n",
       "      <th>cancer_drug</th>\n",
       "      <th>matched_text</th>\n",
       "      <th>category</th>\n",
       "      <th>date_year</th>\n",
       "      <th>date_month</th>\n",
       "      <th>date_day</th>\n",
       "    </tr>\n",
       "  </thead>\n",
       "  <tbody>\n",
       "    <tr>\n",
       "      <td>0</td>\n",
       "      <td>2</td>\n",
       "      <td>2003-01-07</td>\n",
       "      <td>2003</td>\n",
       "      <td>Notes</td>\n",
       "      <td>By 2/10/09, his PSA had risen to 7.03 thus res...</td>\n",
       "      <td>ADT</td>\n",
       "      <td>Leuprolide</td>\n",
       "      <td>lupron</td>\n",
       "      <td>Hormone Therapy</td>\n",
       "      <td>2009.0</td>\n",
       "      <td>2.0</td>\n",
       "      <td>26.0</td>\n",
       "    </tr>\n",
       "    <tr>\n",
       "      <td>1</td>\n",
       "      <td>2</td>\n",
       "      <td>2003-01-07</td>\n",
       "      <td>2003</td>\n",
       "      <td>Notes</td>\n",
       "      <td>By 2/10/09, his PSA had risen to 7.03 thus res...</td>\n",
       "      <td>ADT</td>\n",
       "      <td>Leuprolide</td>\n",
       "      <td>lupron</td>\n",
       "      <td>Hormone Therapy</td>\n",
       "      <td>2009.0</td>\n",
       "      <td>9.0</td>\n",
       "      <td>15.0</td>\n",
       "    </tr>\n",
       "    <tr>\n",
       "      <td>2</td>\n",
       "      <td>2</td>\n",
       "      <td>2003-01-07</td>\n",
       "      <td>2003</td>\n",
       "      <td>Notes</td>\n",
       "      <td>Developed L3 lesion s/p EBRT (3/27/09-4/2/09) ...</td>\n",
       "      <td>ADT</td>\n",
       "      <td>Leuprolide</td>\n",
       "      <td>lupron</td>\n",
       "      <td>Hormone Therapy</td>\n",
       "      <td>2010.0</td>\n",
       "      <td>5.0</td>\n",
       "      <td>24.0</td>\n",
       "    </tr>\n",
       "  </tbody>\n",
       "</table>\n",
       "</div>"
      ],
      "text/plain": [
       "   person_id     dxdate  dx_year source_from  \\\n",
       "0          2 2003-01-07     2003       Notes   \n",
       "1          2 2003-01-07     2003       Notes   \n",
       "2          2 2003-01-07     2003       Notes   \n",
       "\n",
       "                                            evidence hormone_therapy  \\\n",
       "0  By 2/10/09, his PSA had risen to 7.03 thus res...             ADT   \n",
       "1  By 2/10/09, his PSA had risen to 7.03 thus res...             ADT   \n",
       "2  Developed L3 lesion s/p EBRT (3/27/09-4/2/09) ...             ADT   \n",
       "\n",
       "  cancer_drug matched_text         category  date_year  date_month  date_day  \n",
       "0  Leuprolide       lupron  Hormone Therapy     2009.0         2.0      26.0  \n",
       "1  Leuprolide       lupron  Hormone Therapy     2009.0         9.0      15.0  \n",
       "2  Leuprolide       lupron  Hormone Therapy     2010.0         5.0      24.0  "
      ]
     },
     "execution_count": 57,
     "metadata": {},
     "output_type": "execute_result"
    }
   ],
   "source": [
    "df1[:3]"
   ]
  },
  {
   "cell_type": "code",
   "execution_count": 58,
   "metadata": {},
   "outputs": [
    {
     "name": "stdout",
     "output_type": "stream",
     "text": [
      "\n",
      "Total number of pts\n",
      "4391\n"
     ]
    }
   ],
   "source": [
    "df1_pt_grouped=df1.groupby([\"person_id\"]).size().reset_index(name='counts')\n",
    "list_pt=df1_pt_grouped[\"person_id\"].to_list()\n",
    "print(\"\")\n",
    "print(\"Total number of pts\")\n",
    "print(len(list_pt))"
   ]
  },
  {
   "cell_type": "code",
   "execution_count": 59,
   "metadata": {},
   "outputs": [
    {
     "data": {
      "text/plain": [
       "[2, 12, 13, 18, 22, 25, 26, 37, 38, 53]"
      ]
     },
     "execution_count": 59,
     "metadata": {},
     "output_type": "execute_result"
    }
   ],
   "source": [
    "list_pt[:10]"
   ]
  },
  {
   "cell_type": "code",
   "execution_count": 60,
   "metadata": {},
   "outputs": [
    {
     "name": "stdout",
     "output_type": "stream",
     "text": [
      "list of pt ids with t test results\n",
      "4490\n",
      "\n",
      "4391\n",
      "1499\n"
     ]
    }
   ],
   "source": [
    "###make sure all pts are included in the T test result table\n",
    "\n",
    "df_tvalue_grouped=df_test.groupby([\"person_id\"]).size().reset_index(name='counts')\n",
    "list_pt_test=df_tvalue_grouped[\"person_id\"].to_list()\n",
    "print(\"list of pt ids with t test results\")\n",
    "print(len(list_pt_test))\n",
    "print(\"\")\n",
    "print(len(list_pt))\n",
    "\n",
    "overlap_list=[x for x in list_pt if x in  list_pt_test]\n",
    "print(len(overlap_list))"
   ]
  },
  {
   "cell_type": "code",
   "execution_count": 61,
   "metadata": {},
   "outputs": [],
   "source": [
    "#get the subtable with date_month empty\n",
    "#get the subtable with data_month\n",
    "#get the overlap\n",
    "#get the pts stats"
   ]
  },
  {
   "cell_type": "code",
   "execution_count": 62,
   "metadata": {},
   "outputs": [
    {
     "name": "stdout",
     "output_type": "stream",
     "text": [
      "pts with year not empty:\n",
      "2510\n",
      "pts with month not empty:\n",
      "2450\n",
      "pts with day not empty:\n",
      "2317\n"
     ]
    }
   ],
   "source": [
    "#subgroup of pt with data year not empty\n",
    "df_notempty_date_year=df1[df1.date_year.notnull()]\n",
    "\n",
    "df_notempty_grouped_year=df_notempty_date_year.groupby([\"person_id\"]).size().reset_index(name='counts')\n",
    "list_notempty_pt_year=df_notempty_grouped_year[\"person_id\"].to_list()\n",
    "print(\"pts with year not empty:\")\n",
    "print(len(list_notempty_pt_year))\n",
    "\n",
    "\n",
    "#subgroup of pt with data month not empty\n",
    "df_notempty_date_month=df1[df1.date_month.notnull()]\n",
    "\n",
    "df_notempty_grouped_month=df_notempty_date_month.groupby([\"person_id\"]).size().reset_index(name='counts')\n",
    "list_notempty_pt_month=df_notempty_grouped_month[\"person_id\"].to_list()\n",
    "\n",
    "print(\"pts with month not empty:\")\n",
    "print(len(list_notempty_pt_month))\n",
    "\n",
    "\n",
    "#subgroup of pt with data day not empty\n",
    "df_notempty_date_day=df1[df1.date_day.notnull()]\n",
    "\n",
    "df_notempty_grouped_day=df_notempty_date_day.groupby([\"person_id\"]).size().reset_index(name='counts')\n",
    "list_notempty_pt_day=df_notempty_grouped_day[\"person_id\"].to_list()\n",
    "print(\"pts with day not empty:\")\n",
    "print(len(list_notempty_pt_day))"
   ]
  },
  {
   "cell_type": "markdown",
   "metadata": {},
   "source": [
    "# List of pts with both year and month date"
   ]
  },
  {
   "cell_type": "code",
   "execution_count": 63,
   "metadata": {},
   "outputs": [
    {
     "data": {
      "text/plain": [
       "2450"
      ]
     },
     "execution_count": 63,
     "metadata": {},
     "output_type": "execute_result"
    }
   ],
   "source": [
    "pts_with_both_year_month=[x for x in list_notempty_pt_year if x in list_notempty_pt_month]\n",
    "len(pts_with_both_year_month)"
   ]
  },
  {
   "cell_type": "markdown",
   "metadata": {},
   "source": [
    "# List of 1941 pts that are useless because they don't have both ADT year and month info "
   ]
  },
  {
   "cell_type": "code",
   "execution_count": 64,
   "metadata": {},
   "outputs": [
    {
     "name": "stdout",
     "output_type": "stream",
     "text": [
      "1941\n"
     ]
    }
   ],
   "source": [
    "pts_without_year_month=[x for x in list_pt if x not in pts_with_both_year_month]\n",
    "print(len(pts_without_year_month))\n",
    "\n",
    "#save the list for QC\n",
    "df_pts_without_year_month=DataFrame(pts_without_year_month,columns=['pt_id'])\n",
    "df_pts_without_year_month.to_csv(\"1941pts_without_year_month_approach#2.csv\",encoding='utf-8', index=False)"
   ]
  },
  {
   "cell_type": "markdown",
   "metadata": {},
   "source": [
    "# How many of these have T test results "
   ]
  },
  {
   "cell_type": "code",
   "execution_count": 65,
   "metadata": {},
   "outputs": [
    {
     "name": "stdout",
     "output_type": "stream",
     "text": [
      "1206\n"
     ]
    }
   ],
   "source": [
    "pts_have_yearmonth_with_test_list=[x for x in pts_with_both_year_month if x in  list_pt_test]\n",
    "print(len(pts_have_yearmonth_with_test_list))"
   ]
  },
  {
   "cell_type": "code",
   "execution_count": 66,
   "metadata": {},
   "outputs": [
    {
     "name": "stdout",
     "output_type": "stream",
     "text": [
      "pts with empty year:\n",
      "4273\n",
      "pts with empty month:\n",
      "4292\n",
      "pts with empty day:\n",
      "4305\n"
     ]
    }
   ],
   "source": [
    "#subgroup of pt with data year empty\n",
    "df_empty_year=df1[df1.date_year.isnull()]\n",
    "\n",
    "df_empty_year_grouped=df_empty_year.groupby([\"person_id\"]).size().reset_index(name='counts')\n",
    "list_empty_year_pt=df_empty_year_grouped[\"person_id\"].to_list()\n",
    "print(\"pts with empty year:\")\n",
    "print(len(list_empty_year_pt))\n",
    "\n",
    "#subgroup of pt with data month empty\n",
    "df_empty_month=df1[df1.date_month.isnull()]\n",
    "\n",
    "df_empty_month_grouped=df_empty_month.groupby([\"person_id\"]).size().reset_index(name='counts')\n",
    "list_empty_month_pt=df_empty_month_grouped[\"person_id\"].to_list()\n",
    "print(\"pts with empty month:\")\n",
    "print(len(list_empty_month_pt))\n",
    "\n",
    "#subgroup of pt with data month empty\n",
    "df_empty_day=df1[df1.date_day.isnull()]\n",
    "\n",
    "df_empty_day_grouped=df_empty_day.groupby([\"person_id\"]).size().reset_index(name='counts')\n",
    "list_empty_day_pt=df_empty_day_grouped[\"person_id\"].to_list()\n",
    "len(list_empty_day_pt)\n",
    "print(\"pts with empty day:\")\n",
    "print(len(list_empty_day_pt))"
   ]
  },
  {
   "cell_type": "code",
   "execution_count": 67,
   "metadata": {},
   "outputs": [
    {
     "name": "stdout",
     "output_type": "stream",
     "text": [
      "pt with year missing for all drugs and hence useless\n",
      "1881\n",
      "pt with month missing for all drugs and hence useless\n",
      "1941\n"
     ]
    }
   ],
   "source": [
    "pt_with_missingyear_useless_list=[x for x in list_empty_year_pt if x not in list_notempty_pt_year]\n",
    "\n",
    "print(\"pt with year missing for all drugs and hence useless\")\n",
    "print(len(pt_with_missingyear_useless_list))\n",
    "\n",
    "pt_with_missingmonth_useless_list=[x for x in list_empty_month_pt if x not in list_notempty_pt_month]\n",
    "\n",
    "print(\"pt with month missing for all drugs and hence useless\")\n",
    "print(len(pt_with_missingmonth_useless_list)) "
   ]
  },
  {
   "cell_type": "markdown",
   "metadata": {},
   "source": [
    "# Useless pts due to missing year or month; enssentially no ADT info captured 1941"
   ]
  },
  {
   "cell_type": "code",
   "execution_count": 68,
   "metadata": {},
   "outputs": [
    {
     "name": "stdout",
     "output_type": "stream",
     "text": [
      "0\n",
      "60\n",
      "1881\n",
      "1941\n"
     ]
    }
   ],
   "source": [
    "#useless due to missing year or month\n",
    "\n",
    "a_list=[x for x in pt_with_missingyear_useless_list if x not in pt_with_missingmonth_useless_list]\n",
    "b_list=[x for x in pt_with_missingmonth_useless_list if x not in pt_with_missingyear_useless_list]\n",
    "c_list=[x for x in  pt_with_missingyear_useless_list if x in pt_with_missingmonth_useless_list]\n",
    "\n",
    "pt_with_emptymonthoryear_list=a_list+b_list+c_list\n",
    "print(len(a_list))\n",
    "print(len(b_list))\n",
    "print(len(c_list))\n",
    "print(len(pt_with_emptymonthoryear_list))"
   ]
  },
  {
   "cell_type": "code",
   "execution_count": 69,
   "metadata": {},
   "outputs": [
    {
     "data": {
      "text/html": [
       "<div>\n",
       "<style scoped>\n",
       "    .dataframe tbody tr th:only-of-type {\n",
       "        vertical-align: middle;\n",
       "    }\n",
       "\n",
       "    .dataframe tbody tr th {\n",
       "        vertical-align: top;\n",
       "    }\n",
       "\n",
       "    .dataframe thead th {\n",
       "        text-align: right;\n",
       "    }\n",
       "</style>\n",
       "<table border=\"1\" class=\"dataframe\">\n",
       "  <thead>\n",
       "    <tr style=\"text-align: right;\">\n",
       "      <th></th>\n",
       "      <th>person_id</th>\n",
       "      <th>dxdate</th>\n",
       "      <th>dx_year</th>\n",
       "      <th>source_from</th>\n",
       "      <th>evidence</th>\n",
       "      <th>hormone_therapy</th>\n",
       "      <th>cancer_drug</th>\n",
       "      <th>matched_text</th>\n",
       "      <th>category</th>\n",
       "      <th>date_year</th>\n",
       "      <th>date_month</th>\n",
       "      <th>date_day</th>\n",
       "    </tr>\n",
       "  </thead>\n",
       "  <tbody>\n",
       "    <tr>\n",
       "      <td>25</td>\n",
       "      <td>2</td>\n",
       "      <td>2003-01-07</td>\n",
       "      <td>2003</td>\n",
       "      <td>Notes</td>\n",
       "      <td>Lupron administered as per MAR.</td>\n",
       "      <td>ADT</td>\n",
       "      <td>Leuprolide</td>\n",
       "      <td>lupron</td>\n",
       "      <td>Hormone Therapy</td>\n",
       "      <td>NaN</td>\n",
       "      <td>NaN</td>\n",
       "      <td>NaN</td>\n",
       "    </tr>\n",
       "    <tr>\n",
       "      <td>26</td>\n",
       "      <td>2</td>\n",
       "      <td>2003-01-07</td>\n",
       "      <td>2003</td>\n",
       "      <td>Notes</td>\n",
       "      <td>Pt given a single dose of Lupron Depot 3 month...</td>\n",
       "      <td>ADT</td>\n",
       "      <td>Leuprolide</td>\n",
       "      <td>lupron depot</td>\n",
       "      <td>Hormone Therapy</td>\n",
       "      <td>NaN</td>\n",
       "      <td>NaN</td>\n",
       "      <td>NaN</td>\n",
       "    </tr>\n",
       "    <tr>\n",
       "      <td>27</td>\n",
       "      <td>2</td>\n",
       "      <td>2003-01-07</td>\n",
       "      <td>2003</td>\n",
       "      <td>Notes</td>\n",
       "      <td>- continue leuprolide q 3 months, will receive...</td>\n",
       "      <td>ADT</td>\n",
       "      <td>Leuprolide</td>\n",
       "      <td>leuprolide</td>\n",
       "      <td>Hormone Therapy</td>\n",
       "      <td>NaN</td>\n",
       "      <td>NaN</td>\n",
       "      <td>NaN</td>\n",
       "    </tr>\n",
       "    <tr>\n",
       "      <td>28</td>\n",
       "      <td>2</td>\n",
       "      <td>2003-01-07</td>\n",
       "      <td>2003</td>\n",
       "      <td>Notes</td>\n",
       "      <td>Lupron administered in L buttock, tolerated well.</td>\n",
       "      <td>ADT</td>\n",
       "      <td>Leuprolide</td>\n",
       "      <td>lupron</td>\n",
       "      <td>Hormone Therapy</td>\n",
       "      <td>NaN</td>\n",
       "      <td>NaN</td>\n",
       "      <td>NaN</td>\n",
       "    </tr>\n",
       "    <tr>\n",
       "      <td>29</td>\n",
       "      <td>2</td>\n",
       "      <td>2003-01-07</td>\n",
       "      <td>2003</td>\n",
       "      <td>Notes</td>\n",
       "      <td>Patient received lupron and Xgeva ingections t...</td>\n",
       "      <td>ADT</td>\n",
       "      <td>Leuprolide</td>\n",
       "      <td>lupron</td>\n",
       "      <td>Hormone Therapy</td>\n",
       "      <td>NaN</td>\n",
       "      <td>NaN</td>\n",
       "      <td>NaN</td>\n",
       "    </tr>\n",
       "  </tbody>\n",
       "</table>\n",
       "</div>"
      ],
      "text/plain": [
       "    person_id     dxdate  dx_year source_from  \\\n",
       "25          2 2003-01-07     2003       Notes   \n",
       "26          2 2003-01-07     2003       Notes   \n",
       "27          2 2003-01-07     2003       Notes   \n",
       "28          2 2003-01-07     2003       Notes   \n",
       "29          2 2003-01-07     2003       Notes   \n",
       "\n",
       "                                             evidence hormone_therapy  \\\n",
       "25                    Lupron administered as per MAR.             ADT   \n",
       "26  Pt given a single dose of Lupron Depot 3 month...             ADT   \n",
       "27  - continue leuprolide q 3 months, will receive...             ADT   \n",
       "28  Lupron administered in L buttock, tolerated well.             ADT   \n",
       "29  Patient received lupron and Xgeva ingections t...             ADT   \n",
       "\n",
       "   cancer_drug  matched_text         category  date_year  date_month  date_day  \n",
       "25  Leuprolide        lupron  Hormone Therapy        NaN         NaN       NaN  \n",
       "26  Leuprolide  lupron depot  Hormone Therapy        NaN         NaN       NaN  \n",
       "27  Leuprolide    leuprolide  Hormone Therapy        NaN         NaN       NaN  \n",
       "28  Leuprolide        lupron  Hormone Therapy        NaN         NaN       NaN  \n",
       "29  Leuprolide        lupron  Hormone Therapy        NaN         NaN       NaN  "
      ]
     },
     "execution_count": 69,
     "metadata": {},
     "output_type": "execute_result"
    }
   ],
   "source": [
    "df1[25:30]"
   ]
  },
  {
   "cell_type": "code",
   "execution_count": 70,
   "metadata": {},
   "outputs": [],
   "source": [
    "df1_copy=df1"
   ]
  },
  {
   "cell_type": "markdown",
   "metadata": {},
   "source": [
    "# Filling the missing day with 1"
   ]
  },
  {
   "cell_type": "code",
   "execution_count": 71,
   "metadata": {},
   "outputs": [],
   "source": [
    "df1_copy['date_day'].mask(df1_copy.date_day.isnull(), '1', inplace=True)\n",
    "df1_copy.date_day=df1_copy.date_day.astype(float)"
   ]
  },
  {
   "cell_type": "code",
   "execution_count": 72,
   "metadata": {},
   "outputs": [
    {
     "data": {
      "text/html": [
       "<div>\n",
       "<style scoped>\n",
       "    .dataframe tbody tr th:only-of-type {\n",
       "        vertical-align: middle;\n",
       "    }\n",
       "\n",
       "    .dataframe tbody tr th {\n",
       "        vertical-align: top;\n",
       "    }\n",
       "\n",
       "    .dataframe thead th {\n",
       "        text-align: right;\n",
       "    }\n",
       "</style>\n",
       "<table border=\"1\" class=\"dataframe\">\n",
       "  <thead>\n",
       "    <tr style=\"text-align: right;\">\n",
       "      <th></th>\n",
       "      <th>person_id</th>\n",
       "      <th>dxdate</th>\n",
       "      <th>dx_year</th>\n",
       "      <th>source_from</th>\n",
       "      <th>evidence</th>\n",
       "      <th>hormone_therapy</th>\n",
       "      <th>cancer_drug</th>\n",
       "      <th>matched_text</th>\n",
       "      <th>category</th>\n",
       "      <th>date_year</th>\n",
       "      <th>date_month</th>\n",
       "      <th>date_day</th>\n",
       "    </tr>\n",
       "  </thead>\n",
       "  <tbody>\n",
       "    <tr>\n",
       "      <td>0</td>\n",
       "      <td>2</td>\n",
       "      <td>2003-01-07</td>\n",
       "      <td>2003</td>\n",
       "      <td>Notes</td>\n",
       "      <td>By 2/10/09, his PSA had risen to 7.03 thus res...</td>\n",
       "      <td>ADT</td>\n",
       "      <td>Leuprolide</td>\n",
       "      <td>lupron</td>\n",
       "      <td>Hormone Therapy</td>\n",
       "      <td>2009.0</td>\n",
       "      <td>2.0</td>\n",
       "      <td>26.0</td>\n",
       "    </tr>\n",
       "    <tr>\n",
       "      <td>1</td>\n",
       "      <td>2</td>\n",
       "      <td>2003-01-07</td>\n",
       "      <td>2003</td>\n",
       "      <td>Notes</td>\n",
       "      <td>By 2/10/09, his PSA had risen to 7.03 thus res...</td>\n",
       "      <td>ADT</td>\n",
       "      <td>Leuprolide</td>\n",
       "      <td>lupron</td>\n",
       "      <td>Hormone Therapy</td>\n",
       "      <td>2009.0</td>\n",
       "      <td>9.0</td>\n",
       "      <td>15.0</td>\n",
       "    </tr>\n",
       "    <tr>\n",
       "      <td>2</td>\n",
       "      <td>2</td>\n",
       "      <td>2003-01-07</td>\n",
       "      <td>2003</td>\n",
       "      <td>Notes</td>\n",
       "      <td>Developed L3 lesion s/p EBRT (3/27/09-4/2/09) ...</td>\n",
       "      <td>ADT</td>\n",
       "      <td>Leuprolide</td>\n",
       "      <td>lupron</td>\n",
       "      <td>Hormone Therapy</td>\n",
       "      <td>2010.0</td>\n",
       "      <td>5.0</td>\n",
       "      <td>24.0</td>\n",
       "    </tr>\n",
       "  </tbody>\n",
       "</table>\n",
       "</div>"
      ],
      "text/plain": [
       "   person_id     dxdate  dx_year source_from  \\\n",
       "0          2 2003-01-07     2003       Notes   \n",
       "1          2 2003-01-07     2003       Notes   \n",
       "2          2 2003-01-07     2003       Notes   \n",
       "\n",
       "                                            evidence hormone_therapy  \\\n",
       "0  By 2/10/09, his PSA had risen to 7.03 thus res...             ADT   \n",
       "1  By 2/10/09, his PSA had risen to 7.03 thus res...             ADT   \n",
       "2  Developed L3 lesion s/p EBRT (3/27/09-4/2/09) ...             ADT   \n",
       "\n",
       "  cancer_drug matched_text         category  date_year  date_month  date_day  \n",
       "0  Leuprolide       lupron  Hormone Therapy     2009.0         2.0      26.0  \n",
       "1  Leuprolide       lupron  Hormone Therapy     2009.0         9.0      15.0  \n",
       "2  Leuprolide       lupron  Hormone Therapy     2010.0         5.0      24.0  "
      ]
     },
     "execution_count": 72,
     "metadata": {},
     "output_type": "execute_result"
    }
   ],
   "source": [
    "df1_copy[0:3]"
   ]
  },
  {
   "cell_type": "markdown",
   "metadata": {
    "scrolled": true
   },
   "source": [
    "# Convert year, month, day into a single date number in the timedate format"
   ]
  },
  {
   "cell_type": "code",
   "execution_count": 73,
   "metadata": {},
   "outputs": [
    {
     "data": {
      "text/plain": [
       "0       2009-02-26\n",
       "1       2009-09-15\n",
       "2       2010-05-24\n",
       "3       2010-09-24\n",
       "4       2013-05-20\n",
       "           ...    \n",
       "80485          NaT\n",
       "80486          NaT\n",
       "80487   2018-04-18\n",
       "80488          NaT\n",
       "80489   2019-12-20\n",
       "Name: full_date, Length: 80490, dtype: datetime64[ns]"
      ]
     },
     "execution_count": 73,
     "metadata": {},
     "output_type": "execute_result"
    }
   ],
   "source": [
    "df1_copy[\"full_date\"]=pd.to_datetime((df1_copy.date_year*10000 + df1_copy.date_month*100+df1_copy.date_day).apply(str),format='%Y%m%d')\n",
    "df1_copy[\"full_date\"]"
   ]
  },
  {
   "cell_type": "code",
   "execution_count": 74,
   "metadata": {},
   "outputs": [
    {
     "name": "stdout",
     "output_type": "stream",
     "text": [
      "80490\n",
      "17482\n"
     ]
    }
   ],
   "source": [
    "#get rid of rows where full_dates are NaT\n",
    "df1_fulldate_notna= df1_copy[df1_copy[\"full_date\"].notna()]\n",
    "print(shape(df1_copy)[0])\n",
    "print(shape(df1_fulldate_notna)[0])"
   ]
  },
  {
   "cell_type": "code",
   "execution_count": 75,
   "metadata": {},
   "outputs": [
    {
     "data": {
      "text/html": [
       "<div>\n",
       "<style scoped>\n",
       "    .dataframe tbody tr th:only-of-type {\n",
       "        vertical-align: middle;\n",
       "    }\n",
       "\n",
       "    .dataframe tbody tr th {\n",
       "        vertical-align: top;\n",
       "    }\n",
       "\n",
       "    .dataframe thead th {\n",
       "        text-align: right;\n",
       "    }\n",
       "</style>\n",
       "<table border=\"1\" class=\"dataframe\">\n",
       "  <thead>\n",
       "    <tr style=\"text-align: right;\">\n",
       "      <th></th>\n",
       "      <th>person_id</th>\n",
       "      <th>dxdate</th>\n",
       "      <th>dx_year</th>\n",
       "      <th>source_from</th>\n",
       "      <th>evidence</th>\n",
       "      <th>hormone_therapy</th>\n",
       "      <th>cancer_drug</th>\n",
       "      <th>matched_text</th>\n",
       "      <th>category</th>\n",
       "      <th>date_year</th>\n",
       "      <th>date_month</th>\n",
       "      <th>date_day</th>\n",
       "      <th>full_date</th>\n",
       "    </tr>\n",
       "  </thead>\n",
       "  <tbody>\n",
       "    <tr>\n",
       "      <td>0</td>\n",
       "      <td>2</td>\n",
       "      <td>2003-01-07</td>\n",
       "      <td>2003</td>\n",
       "      <td>Notes</td>\n",
       "      <td>By 2/10/09, his PSA had risen to 7.03 thus res...</td>\n",
       "      <td>ADT</td>\n",
       "      <td>Leuprolide</td>\n",
       "      <td>lupron</td>\n",
       "      <td>Hormone Therapy</td>\n",
       "      <td>2009.0</td>\n",
       "      <td>2.0</td>\n",
       "      <td>26.0</td>\n",
       "      <td>2009-02-26</td>\n",
       "    </tr>\n",
       "    <tr>\n",
       "      <td>1</td>\n",
       "      <td>2</td>\n",
       "      <td>2003-01-07</td>\n",
       "      <td>2003</td>\n",
       "      <td>Notes</td>\n",
       "      <td>By 2/10/09, his PSA had risen to 7.03 thus res...</td>\n",
       "      <td>ADT</td>\n",
       "      <td>Leuprolide</td>\n",
       "      <td>lupron</td>\n",
       "      <td>Hormone Therapy</td>\n",
       "      <td>2009.0</td>\n",
       "      <td>9.0</td>\n",
       "      <td>15.0</td>\n",
       "      <td>2009-09-15</td>\n",
       "    </tr>\n",
       "    <tr>\n",
       "      <td>2</td>\n",
       "      <td>2</td>\n",
       "      <td>2003-01-07</td>\n",
       "      <td>2003</td>\n",
       "      <td>Notes</td>\n",
       "      <td>Developed L3 lesion s/p EBRT (3/27/09-4/2/09) ...</td>\n",
       "      <td>ADT</td>\n",
       "      <td>Leuprolide</td>\n",
       "      <td>lupron</td>\n",
       "      <td>Hormone Therapy</td>\n",
       "      <td>2010.0</td>\n",
       "      <td>5.0</td>\n",
       "      <td>24.0</td>\n",
       "      <td>2010-05-24</td>\n",
       "    </tr>\n",
       "  </tbody>\n",
       "</table>\n",
       "</div>"
      ],
      "text/plain": [
       "   person_id     dxdate  dx_year source_from  \\\n",
       "0          2 2003-01-07     2003       Notes   \n",
       "1          2 2003-01-07     2003       Notes   \n",
       "2          2 2003-01-07     2003       Notes   \n",
       "\n",
       "                                            evidence hormone_therapy  \\\n",
       "0  By 2/10/09, his PSA had risen to 7.03 thus res...             ADT   \n",
       "1  By 2/10/09, his PSA had risen to 7.03 thus res...             ADT   \n",
       "2  Developed L3 lesion s/p EBRT (3/27/09-4/2/09) ...             ADT   \n",
       "\n",
       "  cancer_drug matched_text         category  date_year  date_month  date_day  \\\n",
       "0  Leuprolide       lupron  Hormone Therapy     2009.0         2.0      26.0   \n",
       "1  Leuprolide       lupron  Hormone Therapy     2009.0         9.0      15.0   \n",
       "2  Leuprolide       lupron  Hormone Therapy     2010.0         5.0      24.0   \n",
       "\n",
       "   full_date  \n",
       "0 2009-02-26  \n",
       "1 2009-09-15  \n",
       "2 2010-05-24  "
      ]
     },
     "execution_count": 75,
     "metadata": {},
     "output_type": "execute_result"
    }
   ],
   "source": [
    "df1_fulldate_notna[:3]"
   ]
  },
  {
   "cell_type": "code",
   "execution_count": 76,
   "metadata": {},
   "outputs": [
    {
     "data": {
      "text/plain": [
       "17482"
      ]
     },
     "execution_count": 76,
     "metadata": {},
     "output_type": "execute_result"
    }
   ],
   "source": [
    "df3=df1_fulldate_notna[df1_fulldate_notna.hormone_therapy==\"ADT\"]\n",
    "len(df3)"
   ]
  },
  {
   "cell_type": "code",
   "execution_count": 77,
   "metadata": {},
   "outputs": [],
   "source": [
    "#output this table \n",
    "df3.to_csv(\"sean_big_1206pts_cohort_cleanup_table.csv\",encoding='utf-8', index=False)"
   ]
  },
  {
   "cell_type": "markdown",
   "metadata": {},
   "source": [
    "# Pts with only one ADT use: 507 pts"
   ]
  },
  {
   "cell_type": "code",
   "execution_count": 78,
   "metadata": {},
   "outputs": [
    {
     "name": "stdout",
     "output_type": "stream",
     "text": [
      "507\n"
     ]
    }
   ],
   "source": [
    "df3_grouped_pt_adtcount=df3.groupby([\"person_id\"]).size().reset_index(name='counts')\n",
    "df3_grouped_pt_adtcount\n",
    "#pick pts with just one ADT\n",
    "\n",
    "df_one_adt=df3_grouped_pt_adtcount[(df3_grouped_pt_adtcount[\"counts\"] == 1)]\n",
    "df_one_adt\n",
    "\n",
    "list_one_adt_pt=df_one_adt[\"person_id\"].to_list()\n",
    "print(len(list_one_adt_pt))"
   ]
  },
  {
   "cell_type": "code",
   "execution_count": 79,
   "metadata": {},
   "outputs": [
    {
     "data": {
      "text/html": [
       "<div>\n",
       "<style scoped>\n",
       "    .dataframe tbody tr th:only-of-type {\n",
       "        vertical-align: middle;\n",
       "    }\n",
       "\n",
       "    .dataframe tbody tr th {\n",
       "        vertical-align: top;\n",
       "    }\n",
       "\n",
       "    .dataframe thead th {\n",
       "        text-align: right;\n",
       "    }\n",
       "</style>\n",
       "<table border=\"1\" class=\"dataframe\">\n",
       "  <thead>\n",
       "    <tr style=\"text-align: right;\">\n",
       "      <th></th>\n",
       "      <th>person_id</th>\n",
       "      <th>dxdate</th>\n",
       "      <th>dx_year</th>\n",
       "      <th>source_from</th>\n",
       "      <th>evidence</th>\n",
       "      <th>hormone_therapy</th>\n",
       "      <th>cancer_drug</th>\n",
       "      <th>matched_text</th>\n",
       "      <th>category</th>\n",
       "      <th>date_year</th>\n",
       "      <th>date_month</th>\n",
       "      <th>date_day</th>\n",
       "      <th>full_date</th>\n",
       "    </tr>\n",
       "  </thead>\n",
       "  <tbody>\n",
       "    <tr>\n",
       "      <td>0</td>\n",
       "      <td>2</td>\n",
       "      <td>2003-01-07</td>\n",
       "      <td>2003</td>\n",
       "      <td>Notes</td>\n",
       "      <td>By 2/10/09, his PSA had risen to 7.03 thus res...</td>\n",
       "      <td>ADT</td>\n",
       "      <td>Leuprolide</td>\n",
       "      <td>lupron</td>\n",
       "      <td>Hormone Therapy</td>\n",
       "      <td>2009.0</td>\n",
       "      <td>2.0</td>\n",
       "      <td>26.0</td>\n",
       "      <td>2009-02-26</td>\n",
       "    </tr>\n",
       "    <tr>\n",
       "      <td>1</td>\n",
       "      <td>2</td>\n",
       "      <td>2003-01-07</td>\n",
       "      <td>2003</td>\n",
       "      <td>Notes</td>\n",
       "      <td>By 2/10/09, his PSA had risen to 7.03 thus res...</td>\n",
       "      <td>ADT</td>\n",
       "      <td>Leuprolide</td>\n",
       "      <td>lupron</td>\n",
       "      <td>Hormone Therapy</td>\n",
       "      <td>2009.0</td>\n",
       "      <td>9.0</td>\n",
       "      <td>15.0</td>\n",
       "      <td>2009-09-15</td>\n",
       "    </tr>\n",
       "    <tr>\n",
       "      <td>2</td>\n",
       "      <td>2</td>\n",
       "      <td>2003-01-07</td>\n",
       "      <td>2003</td>\n",
       "      <td>Notes</td>\n",
       "      <td>Developed L3 lesion s/p EBRT (3/27/09-4/2/09) ...</td>\n",
       "      <td>ADT</td>\n",
       "      <td>Leuprolide</td>\n",
       "      <td>lupron</td>\n",
       "      <td>Hormone Therapy</td>\n",
       "      <td>2010.0</td>\n",
       "      <td>5.0</td>\n",
       "      <td>24.0</td>\n",
       "      <td>2010-05-24</td>\n",
       "    </tr>\n",
       "    <tr>\n",
       "      <td>3</td>\n",
       "      <td>2</td>\n",
       "      <td>2003-01-07</td>\n",
       "      <td>2003</td>\n",
       "      <td>Notes</td>\n",
       "      <td>Developed L3 lesion s/p EBRT (3/27/09-4/2/09) ...</td>\n",
       "      <td>ADT</td>\n",
       "      <td>Leuprolide</td>\n",
       "      <td>lupron</td>\n",
       "      <td>Hormone Therapy</td>\n",
       "      <td>2010.0</td>\n",
       "      <td>9.0</td>\n",
       "      <td>24.0</td>\n",
       "      <td>2010-09-24</td>\n",
       "    </tr>\n",
       "    <tr>\n",
       "      <td>4</td>\n",
       "      <td>2</td>\n",
       "      <td>2003-01-07</td>\n",
       "      <td>2003</td>\n",
       "      <td>Medtable</td>\n",
       "      <td>LEUPROLIDE (3 MONTH) 22.5 MG IM SYRINGE KIT</td>\n",
       "      <td>ADT</td>\n",
       "      <td>Leuprolide</td>\n",
       "      <td>leuprolide</td>\n",
       "      <td>Hormone Therapy</td>\n",
       "      <td>2013.0</td>\n",
       "      <td>5.0</td>\n",
       "      <td>20.0</td>\n",
       "      <td>2013-05-20</td>\n",
       "    </tr>\n",
       "  </tbody>\n",
       "</table>\n",
       "</div>"
      ],
      "text/plain": [
       "   person_id     dxdate  dx_year source_from  \\\n",
       "0          2 2003-01-07     2003       Notes   \n",
       "1          2 2003-01-07     2003       Notes   \n",
       "2          2 2003-01-07     2003       Notes   \n",
       "3          2 2003-01-07     2003       Notes   \n",
       "4          2 2003-01-07     2003    Medtable   \n",
       "\n",
       "                                            evidence hormone_therapy  \\\n",
       "0  By 2/10/09, his PSA had risen to 7.03 thus res...             ADT   \n",
       "1  By 2/10/09, his PSA had risen to 7.03 thus res...             ADT   \n",
       "2  Developed L3 lesion s/p EBRT (3/27/09-4/2/09) ...             ADT   \n",
       "3  Developed L3 lesion s/p EBRT (3/27/09-4/2/09) ...             ADT   \n",
       "4        LEUPROLIDE (3 MONTH) 22.5 MG IM SYRINGE KIT             ADT   \n",
       "\n",
       "  cancer_drug matched_text         category  date_year  date_month  date_day  \\\n",
       "0  Leuprolide       lupron  Hormone Therapy     2009.0         2.0      26.0   \n",
       "1  Leuprolide       lupron  Hormone Therapy     2009.0         9.0      15.0   \n",
       "2  Leuprolide       lupron  Hormone Therapy     2010.0         5.0      24.0   \n",
       "3  Leuprolide       lupron  Hormone Therapy     2010.0         9.0      24.0   \n",
       "4  Leuprolide   leuprolide  Hormone Therapy     2013.0         5.0      20.0   \n",
       "\n",
       "   full_date  \n",
       "0 2009-02-26  \n",
       "1 2009-09-15  \n",
       "2 2010-05-24  \n",
       "3 2010-09-24  \n",
       "4 2013-05-20  "
      ]
     },
     "execution_count": 79,
     "metadata": {},
     "output_type": "execute_result"
    }
   ],
   "source": [
    "df3[:5]"
   ]
  },
  {
   "cell_type": "code",
   "execution_count": 80,
   "metadata": {},
   "outputs": [
    {
     "name": "stdout",
     "output_type": "stream",
     "text": [
      "pt_list\n",
      "2450\n"
     ]
    }
   ],
   "source": [
    "df3_grouped=df3.groupby([\"person_id\"]).size().reset_index(name='counts')\n",
    "df3_grouped_pt=df3_grouped.person_id.to_list()\n",
    "print(\"pt_list\")\n",
    "print(len(df3_grouped_pt))\n",
    "pt_list=df3_grouped_pt"
   ]
  },
  {
   "cell_type": "code",
   "execution_count": 81,
   "metadata": {},
   "outputs": [
    {
     "data": {
      "text/plain": [
       "[Timestamp('2017-09-12 00:00:00'), Timestamp('2017-09-12 00:00:00')]"
      ]
     },
     "execution_count": 81,
     "metadata": {},
     "output_type": "execute_result"
    }
   ],
   "source": [
    "df_pt=df3[(df3[\"person_id\"] ==15103)]\n",
    "each_pt_dates= df_pt['full_date'].to_list()\n",
    "each_pt_dates"
   ]
  },
  {
   "cell_type": "code",
   "execution_count": 82,
   "metadata": {},
   "outputs": [
    {
     "data": {
      "text/plain": [
       "[Timestamp('2013-02-01 00:00:00'),\n",
       " Timestamp('2013-02-01 00:00:00'),\n",
       " Timestamp('2013-02-01 00:00:00'),\n",
       " Timestamp('2013-02-01 00:00:00'),\n",
       " Timestamp('2013-02-01 00:00:00'),\n",
       " Timestamp('2013-02-01 00:00:00'),\n",
       " Timestamp('2013-02-01 00:00:00'),\n",
       " Timestamp('2013-02-01 00:00:00'),\n",
       " Timestamp('2013-02-01 00:00:00'),\n",
       " Timestamp('2013-02-01 00:00:00'),\n",
       " Timestamp('2013-02-01 00:00:00')]"
      ]
     },
     "execution_count": 82,
     "metadata": {},
     "output_type": "execute_result"
    }
   ],
   "source": [
    "df_pt=df3[(df3[\"person_id\"] ==122)]\n",
    "each_pt_dates= df_pt['full_date'].to_list()\n",
    "each_pt_dates"
   ]
  },
  {
   "cell_type": "code",
   "execution_count": 83,
   "metadata": {},
   "outputs": [
    {
     "data": {
      "text/plain": [
       "Timestamp('2013-02-01 00:00:00')"
      ]
     },
     "execution_count": 83,
     "metadata": {},
     "output_type": "execute_result"
    }
   ],
   "source": [
    "each_pt_dates[1]"
   ]
  },
  {
   "cell_type": "code",
   "execution_count": 84,
   "metadata": {},
   "outputs": [],
   "source": [
    "# define a function that group consecutive dates with a tolerate gap of 7 months\n",
    "\n",
    "def group_runs(li,tolerance=212.9):\n",
    "    out = []\n",
    "    last = li[0]\n",
    "    for x in li:\n",
    "        if float(abs(x-last).days) > tolerance:\n",
    "            yield out\n",
    "            out = []\n",
    "        out.append(x)\n",
    "        last = x\n",
    "    yield out"
   ]
  },
  {
   "cell_type": "code",
   "execution_count": 85,
   "metadata": {},
   "outputs": [
    {
     "data": {
      "text/plain": [
       "[Timestamp('2013-02-01 00:00:00'),\n",
       " Timestamp('2013-02-01 00:00:00'),\n",
       " Timestamp('2013-02-01 00:00:00'),\n",
       " Timestamp('2013-02-01 00:00:00'),\n",
       " Timestamp('2013-02-01 00:00:00'),\n",
       " Timestamp('2013-02-01 00:00:00'),\n",
       " Timestamp('2013-02-01 00:00:00'),\n",
       " Timestamp('2013-02-01 00:00:00'),\n",
       " Timestamp('2013-02-01 00:00:00'),\n",
       " Timestamp('2013-02-01 00:00:00'),\n",
       " Timestamp('2013-02-01 00:00:00')]"
      ]
     },
     "execution_count": 85,
     "metadata": {},
     "output_type": "execute_result"
    }
   ],
   "source": [
    "list(group_runs(each_pt_dates))[0]"
   ]
  },
  {
   "cell_type": "code",
   "execution_count": 86,
   "metadata": {},
   "outputs": [
    {
     "data": {
      "text/plain": [
       "Timestamp('2013-02-01 00:00:00')"
      ]
     },
     "execution_count": 86,
     "metadata": {},
     "output_type": "execute_result"
    }
   ],
   "source": [
    "list(group_runs(each_pt_dates))[0][0]"
   ]
  },
  {
   "cell_type": "code",
   "execution_count": 87,
   "metadata": {},
   "outputs": [
    {
     "data": {
      "text/plain": [
       "Timestamp('2013-02-01 00:00:00')"
      ]
     },
     "execution_count": 87,
     "metadata": {},
     "output_type": "execute_result"
    }
   ],
   "source": [
    "list(group_runs(each_pt_dates))[0][-1]"
   ]
  },
  {
   "cell_type": "code",
   "execution_count": 88,
   "metadata": {},
   "outputs": [],
   "source": [
    "#df4_grouped_bydrug=df3.groupby([\"cancer_drug\",\"person_id\"]).size().reset_index()\n",
    "#df4_grouped_bydrug"
   ]
  },
  {
   "cell_type": "code",
   "execution_count": 89,
   "metadata": {},
   "outputs": [
    {
     "data": {
      "text/plain": [
       "[2, 12, 13, 18, 22]"
      ]
     },
     "execution_count": 89,
     "metadata": {},
     "output_type": "execute_result"
    }
   ],
   "source": [
    "df3_grouped_pt[:5]"
   ]
  },
  {
   "cell_type": "markdown",
   "metadata": {},
   "source": [
    "# How many pts have ADT window assginable? "
   ]
  },
  {
   "cell_type": "code",
   "execution_count": 185,
   "metadata": {},
   "outputs": [],
   "source": [
    "result_list=[]\n",
    "empty_list=[]\n",
    "only_one_list=[]\n",
    "two_but_apart_list=[]\n",
    "threeandmore_but_apart_list=[]\n",
    "\n",
    "for y in df3_grouped_pt:\n",
    "\n",
    "    df_pt=df3[(df3[\"person_id\"] == y)]\n",
    "    \n",
    "    #sort and get rid of redundancies\n",
    "    each_pt_info= sorted(df_pt['full_date'].to_list())\n",
    "    each_pt_dates_temp=list(dict.fromkeys(each_pt_info))\n",
    "    each_pt_dates= sorted(each_pt_dates_temp)\n",
    "    \n",
    "    if len(each_pt_dates)==0:\n",
    "        adt_start_date=\"NaN\"\n",
    "        adt_end_date=\"NaN\"\n",
    "        empty_list.append(y)\n",
    "        \n",
    "    if len(each_pt_dates)==1:\n",
    "        adt_start_date=each_pt_dates[0]\n",
    "        adt_end_date=\"NaN\"\n",
    "        only_one_list.append(y)      \n",
    "        \n",
    "    if len(each_pt_dates)==2:\n",
    "        adt_start_date=each_pt_dates[0]\n",
    "        #less than 7 mons\n",
    "         \n",
    "        if float(abs(each_pt_dates[1]-each_pt_dates[0]).days)<212.9: \n",
    "            adt_start_date=each_pt_dates[0]\n",
    "            adt_end_date=each_pt_dates[1]\n",
    "        #larger than 7 mons            \n",
    "        if float(abs(each_pt_dates[1]-each_pt_dates[0]).days)>=212.9: \n",
    "            adt_start_date=each_pt_dates[0]\n",
    "            adt_end_date=\"NaN\"\n",
    "            two_but_apart_list.append(y)\n",
    "            #print(len(two_but_apart_list))\n",
    "            \n",
    "    if len(each_pt_dates)>=3:\n",
    "        #Group consecutive dates with a tolerate gap of 7 months\n",
    "        #list(group_runs(each_pt_dates))[0]\n",
    "        \n",
    "        if len(list(group_runs(each_pt_dates))[0])>1:\n",
    "            adt_start_date=list(group_runs(each_pt_dates))[0][0]\n",
    "            adt_end_date=list(group_runs(each_pt_dates))[0][-1] \n",
    "        \n",
    "        if len(list(group_runs(each_pt_dates))[0])==1:\n",
    "            adt_start_date=list(group_runs(each_pt_dates))[0][0]\n",
    "            adt_end_date=\"NaN\"\n",
    "            threeandmore_but_apart_list.append(y)            \n",
    "\n",
    "    #print(y,adt_start_date,adt_end_date)\n",
    "    result_per_pt=[y,adt_start_date,adt_end_date]\n",
    "    result_list.append(result_per_pt)"
   ]
  },
  {
   "cell_type": "markdown",
   "metadata": {},
   "source": [
    "# How many have only one ADT result? 677 pts\n",
    "# How many have two but 7 months apart? 74 pts  \n",
    "# How many have three but the first two dates are 7 months apart? 174 pts\n",
    "# These are all have end dates as NaN:  925 pts"
   ]
  },
  {
   "cell_type": "code",
   "execution_count": 91,
   "metadata": {},
   "outputs": [
    {
     "name": "stdout",
     "output_type": "stream",
     "text": [
      "677\n",
      "74\n",
      "174\n"
     ]
    }
   ],
   "source": [
    "print(len(only_one_list))\n",
    "print(len(two_but_apart_list))\n",
    "print(len(threeandmore_but_apart_list))\n",
    "\n",
    "#save the list for QC\n",
    "df_pts_only_one_list=DataFrame(only_one_list,columns=['pt_id'])\n",
    "df_pts_two_but_apart_list=DataFrame(two_but_apart_list,columns=['pt_id'])\n",
    "df_pts_threeandmore_but_apart_list=DataFrame(threeandmore_but_apart_list,columns=['pt_id'])\n",
    "\n",
    "df_pts_only_one_list.to_csv(\"677pts_only_oneADT_approach#2.csv\",encoding='utf-8', index=False)\n",
    "df_pts_two_but_apart_list.to_csv(\"74pts_two_but_apartADTs_approach#2.csv\",encoding='utf-8', index=False)\n",
    "df_pts_threeandmore_but_apart_list.to_csv(\"174pts_threeandmore_but_apartADTs_approach#2.csv\",encoding='utf-8', index=False)"
   ]
  },
  {
   "cell_type": "code",
   "execution_count": 92,
   "metadata": {},
   "outputs": [
    {
     "data": {
      "text/plain": [
       "925"
      ]
     },
     "execution_count": 92,
     "metadata": {},
     "output_type": "execute_result"
    }
   ],
   "source": [
    "677+74+174"
   ]
  },
  {
   "cell_type": "code",
   "execution_count": 93,
   "metadata": {},
   "outputs": [],
   "source": [
    "df_adt_results=pd.DataFrame(result_list)\n",
    "df_adt_results.columns=(['person_id', 'inital_ADT_start_date', 'inital_ADT_end_date'])"
   ]
  },
  {
   "cell_type": "code",
   "execution_count": 94,
   "metadata": {},
   "outputs": [],
   "source": [
    "df_adt_results['Inital_ADT_timewindow'] = df_adt_results['inital_ADT_end_date'] - df_adt_results['inital_ADT_start_date']\n",
    "df_adt_results['Inital_ADT_time_window_days']=df_adt_results['Inital_ADT_timewindow'].dt.days"
   ]
  },
  {
   "cell_type": "code",
   "execution_count": 95,
   "metadata": {},
   "outputs": [
    {
     "data": {
      "text/html": [
       "<div>\n",
       "<style scoped>\n",
       "    .dataframe tbody tr th:only-of-type {\n",
       "        vertical-align: middle;\n",
       "    }\n",
       "\n",
       "    .dataframe tbody tr th {\n",
       "        vertical-align: top;\n",
       "    }\n",
       "\n",
       "    .dataframe thead th {\n",
       "        text-align: right;\n",
       "    }\n",
       "</style>\n",
       "<table border=\"1\" class=\"dataframe\">\n",
       "  <thead>\n",
       "    <tr style=\"text-align: right;\">\n",
       "      <th></th>\n",
       "      <th>person_id</th>\n",
       "      <th>inital_ADT_start_date</th>\n",
       "      <th>inital_ADT_end_date</th>\n",
       "      <th>Inital_ADT_timewindow</th>\n",
       "      <th>Inital_ADT_time_window_days</th>\n",
       "    </tr>\n",
       "  </thead>\n",
       "  <tbody>\n",
       "    <tr>\n",
       "      <td>0</td>\n",
       "      <td>2</td>\n",
       "      <td>2009-02-26</td>\n",
       "      <td>2009-09-15</td>\n",
       "      <td>201 days</td>\n",
       "      <td>201.0</td>\n",
       "    </tr>\n",
       "    <tr>\n",
       "      <td>1</td>\n",
       "      <td>12</td>\n",
       "      <td>2013-05-06</td>\n",
       "      <td>NaT</td>\n",
       "      <td>NaT</td>\n",
       "      <td>NaN</td>\n",
       "    </tr>\n",
       "    <tr>\n",
       "      <td>2</td>\n",
       "      <td>13</td>\n",
       "      <td>2010-06-17</td>\n",
       "      <td>2015-03-17</td>\n",
       "      <td>1734 days</td>\n",
       "      <td>1734.0</td>\n",
       "    </tr>\n",
       "    <tr>\n",
       "      <td>3</td>\n",
       "      <td>18</td>\n",
       "      <td>2013-11-12</td>\n",
       "      <td>2014-03-13</td>\n",
       "      <td>121 days</td>\n",
       "      <td>121.0</td>\n",
       "    </tr>\n",
       "    <tr>\n",
       "      <td>4</td>\n",
       "      <td>22</td>\n",
       "      <td>2010-09-27</td>\n",
       "      <td>2014-08-04</td>\n",
       "      <td>1407 days</td>\n",
       "      <td>1407.0</td>\n",
       "    </tr>\n",
       "  </tbody>\n",
       "</table>\n",
       "</div>"
      ],
      "text/plain": [
       "   person_id inital_ADT_start_date inital_ADT_end_date Inital_ADT_timewindow  \\\n",
       "0          2            2009-02-26          2009-09-15              201 days   \n",
       "1         12            2013-05-06                 NaT                   NaT   \n",
       "2         13            2010-06-17          2015-03-17             1734 days   \n",
       "3         18            2013-11-12          2014-03-13              121 days   \n",
       "4         22            2010-09-27          2014-08-04             1407 days   \n",
       "\n",
       "   Inital_ADT_time_window_days  \n",
       "0                        201.0  \n",
       "1                          NaN  \n",
       "2                       1734.0  \n",
       "3                        121.0  \n",
       "4                       1407.0  "
      ]
     },
     "execution_count": 95,
     "metadata": {},
     "output_type": "execute_result"
    }
   ],
   "source": [
    "df_adt_results[:5]"
   ]
  },
  {
   "cell_type": "markdown",
   "metadata": {},
   "source": [
    "# Output results: 1783 pts with ADT usewindow not NaN"
   ]
  },
  {
   "cell_type": "code",
   "execution_count": 96,
   "metadata": {},
   "outputs": [
    {
     "name": "stdout",
     "output_type": "stream",
     "text": [
      "2450\n",
      "1525\n"
     ]
    }
   ],
   "source": [
    "df_adt_results_notna= df_adt_results[df_adt_results['Inital_ADT_timewindow'].notna()]\n",
    "df_adt_results_notna.to_csv(\"Sean_big_1783pts_cohort_ADT_window_table_Feb19_2021.csv\",encoding='utf-8',index=False)\n",
    "\n",
    "print(shape(df_adt_results)[0])\n",
    "print(shape(df_adt_results_notna)[0])"
   ]
  },
  {
   "cell_type": "markdown",
   "metadata": {},
   "source": [
    "# How many have ADT windows and T test results: 983 pts"
   ]
  },
  {
   "cell_type": "code",
   "execution_count": 99,
   "metadata": {},
   "outputs": [
    {
     "name": "stdout",
     "output_type": "stream",
     "text": [
      "891\n"
     ]
    }
   ],
   "source": [
    "list_adt_window_pt=df_adt_results_notna[\"person_id\"].to_list()\n",
    "pts_have_ADTwindow_with_test_list=[x for x in list_adt_window_pt if x in list_pt_test]\n",
    "print(len(pts_have_ADTwindow_with_test_list))"
   ]
  },
  {
   "cell_type": "markdown",
   "metadata": {},
   "source": [
    "# Compare the computed ADT windows for the current approach (#2) and previous approach (#1) for the shared patients "
   ]
  },
  {
   "cell_type": "code",
   "execution_count": 104,
   "metadata": {},
   "outputs": [
    {
     "data": {
      "text/html": [
       "<div>\n",
       "<style scoped>\n",
       "    .dataframe tbody tr th:only-of-type {\n",
       "        vertical-align: middle;\n",
       "    }\n",
       "\n",
       "    .dataframe tbody tr th {\n",
       "        vertical-align: top;\n",
       "    }\n",
       "\n",
       "    .dataframe thead th {\n",
       "        text-align: right;\n",
       "    }\n",
       "</style>\n",
       "<table border=\"1\" class=\"dataframe\">\n",
       "  <thead>\n",
       "    <tr style=\"text-align: right;\">\n",
       "      <th></th>\n",
       "      <th>person_id</th>\n",
       "      <th>inital_ADT_start_date</th>\n",
       "      <th>inital_ADT_end_date</th>\n",
       "      <th>Inital_ADT_timewindow</th>\n",
       "      <th>Inital_ADT_time_window_days</th>\n",
       "      <th>index1</th>\n",
       "    </tr>\n",
       "  </thead>\n",
       "  <tbody>\n",
       "    <tr>\n",
       "      <td>0</td>\n",
       "      <td>2</td>\n",
       "      <td>2009-02-26</td>\n",
       "      <td>2017-02-01</td>\n",
       "      <td>2897 days 00:00:00.000000000</td>\n",
       "      <td>2897.0</td>\n",
       "      <td>0</td>\n",
       "    </tr>\n",
       "    <tr>\n",
       "      <td>1</td>\n",
       "      <td>12</td>\n",
       "      <td>2013-05-06</td>\n",
       "      <td>NaN</td>\n",
       "      <td>NaN</td>\n",
       "      <td>NaN</td>\n",
       "      <td>1</td>\n",
       "    </tr>\n",
       "    <tr>\n",
       "      <td>2</td>\n",
       "      <td>13</td>\n",
       "      <td>2010-06-17</td>\n",
       "      <td>2018-05-17</td>\n",
       "      <td>2891 days 00:00:00.000000000</td>\n",
       "      <td>2891.0</td>\n",
       "      <td>2</td>\n",
       "    </tr>\n",
       "  </tbody>\n",
       "</table>\n",
       "</div>"
      ],
      "text/plain": [
       "   person_id inital_ADT_start_date inital_ADT_end_date  \\\n",
       "0          2            2009-02-26          2017-02-01   \n",
       "1         12            2013-05-06                 NaN   \n",
       "2         13            2010-06-17          2018-05-17   \n",
       "\n",
       "          Inital_ADT_timewindow  Inital_ADT_time_window_days  index1  \n",
       "0  2897 days 00:00:00.000000000                       2897.0       0  \n",
       "1                           NaN                          NaN       1  \n",
       "2  2891 days 00:00:00.000000000                       2891.0       2  "
      ]
     },
     "execution_count": 104,
     "metadata": {},
     "output_type": "execute_result"
    }
   ],
   "source": [
    "#find the pt list and adt window #940 in method 1 for the big cohort\n",
    "df_approach1=pd.read_csv(\"./data/pca_pt_940_cohort_with_ADT_both_dates.csv\", header=0)\n",
    "df_approach1[:3]"
   ]
  },
  {
   "cell_type": "code",
   "execution_count": 105,
   "metadata": {},
   "outputs": [
    {
     "data": {
      "text/html": [
       "<div>\n",
       "<style scoped>\n",
       "    .dataframe tbody tr th:only-of-type {\n",
       "        vertical-align: middle;\n",
       "    }\n",
       "\n",
       "    .dataframe tbody tr th {\n",
       "        vertical-align: top;\n",
       "    }\n",
       "\n",
       "    .dataframe thead th {\n",
       "        text-align: right;\n",
       "    }\n",
       "</style>\n",
       "<table border=\"1\" class=\"dataframe\">\n",
       "  <thead>\n",
       "    <tr style=\"text-align: right;\">\n",
       "      <th></th>\n",
       "      <th>person_id</th>\n",
       "      <th>inital_ADT_start_date</th>\n",
       "      <th>inital_ADT_end_date</th>\n",
       "      <th>Inital_ADT_timewindow</th>\n",
       "      <th>Inital_ADT_time_window_days</th>\n",
       "    </tr>\n",
       "  </thead>\n",
       "  <tbody>\n",
       "    <tr>\n",
       "      <td>0</td>\n",
       "      <td>2</td>\n",
       "      <td>2009-02-26</td>\n",
       "      <td>2009-09-15</td>\n",
       "      <td>201 days</td>\n",
       "      <td>201.0</td>\n",
       "    </tr>\n",
       "    <tr>\n",
       "      <td>2</td>\n",
       "      <td>13</td>\n",
       "      <td>2010-06-17</td>\n",
       "      <td>2015-03-17</td>\n",
       "      <td>1734 days</td>\n",
       "      <td>1734.0</td>\n",
       "    </tr>\n",
       "    <tr>\n",
       "      <td>3</td>\n",
       "      <td>18</td>\n",
       "      <td>2013-11-12</td>\n",
       "      <td>2014-03-13</td>\n",
       "      <td>121 days</td>\n",
       "      <td>121.0</td>\n",
       "    </tr>\n",
       "  </tbody>\n",
       "</table>\n",
       "</div>"
      ],
      "text/plain": [
       "   person_id inital_ADT_start_date inital_ADT_end_date Inital_ADT_timewindow  \\\n",
       "0          2            2009-02-26          2009-09-15              201 days   \n",
       "2         13            2010-06-17          2015-03-17             1734 days   \n",
       "3         18            2013-11-12          2014-03-13              121 days   \n",
       "\n",
       "   Inital_ADT_time_window_days  \n",
       "0                        201.0  \n",
       "2                       1734.0  \n",
       "3                        121.0  "
      ]
     },
     "execution_count": 105,
     "metadata": {},
     "output_type": "execute_result"
    }
   ],
   "source": [
    "df_adt_results_notna[:3]"
   ]
  },
  {
   "cell_type": "code",
   "execution_count": 106,
   "metadata": {},
   "outputs": [],
   "source": [
    "df_approach1_notna= df_approach1[df_approach1['Inital_ADT_time_window_days'].notna()]"
   ]
  },
  {
   "cell_type": "code",
   "execution_count": 107,
   "metadata": {},
   "outputs": [
    {
     "name": "stdout",
     "output_type": "stream",
     "text": [
      "940\n"
     ]
    }
   ],
   "source": [
    "df_approach1_pt=df_approach1_notna.groupby([\"person_id\"]).size().reset_index(name='counts')\n",
    "list_approach1_pt=df_approach1_pt[\"person_id\"].to_list()\n",
    "print(len(list_approach1_pt))"
   ]
  },
  {
   "cell_type": "markdown",
   "metadata": {},
   "source": [
    "### for this list of pts, get person id, adtstart1,adtend1,window1, adtstart2,adtend2,window2\n",
    "### person id list: list_approach1_pt\n",
    "### dataframe approach 1:df_df_approach1_notna\n",
    "### dataframe approach 2:df_adt_results_notna"
   ]
  },
  {
   "cell_type": "code",
   "execution_count": 108,
   "metadata": {},
   "outputs": [],
   "source": [
    "result=[]\n",
    "#previous 1514pt table version \n",
    "df_app1=df_approach1_notna\n",
    "#current sean 1902 version\n",
    "df_app2=df_adt_results_notna\n",
    "\n",
    "for y in list_approach1_pt:\n",
    "#for y in [2,13,38]:  \n",
    "    df_app1_pt=df_app1[(df_app1[\"person_id\"]== y)]\n",
    "    df_app2_pt=df_app2[(df_app2[\"person_id\"] == y)]\n",
    "    \n",
    "    if(len(df_app1_pt['inital_ADT_start_date'].to_list()))>0: \n",
    "        a1=df_app1_pt['inital_ADT_start_date'].to_list()[0]\n",
    "    else:\n",
    "        a1=\"NaN\"\n",
    "    \n",
    "    if(len(df_app1_pt['inital_ADT_end_date'].to_list()))>0: \n",
    "        b1=df_app1_pt['inital_ADT_end_date'].to_list()[0]\n",
    "    else:\n",
    "        b1=\"NaN\"\n",
    "\n",
    "    if(len(df_app1_pt[\"Inital_ADT_time_window_days\"].to_list()))>0: \n",
    "        c1=df_app1_pt[\"Inital_ADT_time_window_days\"].to_list()[0]\n",
    "    else:\n",
    "        c1=\"NaN\"         \n",
    "            \n",
    "    \n",
    "    if(len(df_app2_pt['inital_ADT_start_date'].to_list()))>0: \n",
    "        a2=df_app2_pt['inital_ADT_start_date'].to_list()[0]\n",
    "    else:\n",
    "        a2=\"NaN\"\n",
    "    \n",
    "    if(len(df_app2_pt['inital_ADT_end_date'].to_list()))>0: \n",
    "        b2=df_app2_pt['inital_ADT_end_date'].to_list()[0]\n",
    "    else:\n",
    "        b2=\"NaN\"\n",
    "\n",
    "    if(len(df_app2_pt[\"Inital_ADT_time_window_days\"].to_list()))>0: \n",
    "        c2=df_app2_pt[\"Inital_ADT_time_window_days\"].to_list()[0]\n",
    "    else:\n",
    "        c2=\"NaN\"                   \n",
    "\n",
    "    result_pt=[y,a1,b1,c1,a2,b2,c2]\n",
    "    result.append(result_pt)"
   ]
  },
  {
   "cell_type": "code",
   "execution_count": 109,
   "metadata": {},
   "outputs": [],
   "source": [
    "df_adt_results_two_appos=pd.DataFrame(result)\n",
    "df_adt_results_two_appos.columns=(['person_id', 'inital_ADT_start_date_#1', 'inital_ADT_end_date_#1','Inital_ADT_time_window_days_#1', 'inital_ADT_start_date_#2', 'inital_ADT_end_date_#2','Inital_ADT_time_window_days_#2'])"
   ]
  },
  {
   "cell_type": "code",
   "execution_count": 111,
   "metadata": {},
   "outputs": [
    {
     "data": {
      "text/html": [
       "<div>\n",
       "<style scoped>\n",
       "    .dataframe tbody tr th:only-of-type {\n",
       "        vertical-align: middle;\n",
       "    }\n",
       "\n",
       "    .dataframe tbody tr th {\n",
       "        vertical-align: top;\n",
       "    }\n",
       "\n",
       "    .dataframe thead th {\n",
       "        text-align: right;\n",
       "    }\n",
       "</style>\n",
       "<table border=\"1\" class=\"dataframe\">\n",
       "  <thead>\n",
       "    <tr style=\"text-align: right;\">\n",
       "      <th></th>\n",
       "      <th>person_id</th>\n",
       "      <th>inital_ADT_start_date_#1</th>\n",
       "      <th>inital_ADT_end_date_#1</th>\n",
       "      <th>Inital_ADT_time_window_days_#1</th>\n",
       "      <th>inital_ADT_start_date_#2</th>\n",
       "      <th>inital_ADT_end_date_#2</th>\n",
       "      <th>Inital_ADT_time_window_days_#2</th>\n",
       "    </tr>\n",
       "  </thead>\n",
       "  <tbody>\n",
       "    <tr>\n",
       "      <td>0</td>\n",
       "      <td>2</td>\n",
       "      <td>2009-02-26</td>\n",
       "      <td>2017-02-01</td>\n",
       "      <td>2897.0</td>\n",
       "      <td>2009-02-26</td>\n",
       "      <td>2009-09-15</td>\n",
       "      <td>201</td>\n",
       "    </tr>\n",
       "    <tr>\n",
       "      <td>1</td>\n",
       "      <td>13</td>\n",
       "      <td>2010-06-17</td>\n",
       "      <td>2018-05-17</td>\n",
       "      <td>2891.0</td>\n",
       "      <td>2010-06-17</td>\n",
       "      <td>2015-03-17</td>\n",
       "      <td>1734</td>\n",
       "    </tr>\n",
       "    <tr>\n",
       "      <td>2</td>\n",
       "      <td>18</td>\n",
       "      <td>2013-11-12</td>\n",
       "      <td>2014-03-13</td>\n",
       "      <td>121.0</td>\n",
       "      <td>2013-11-12</td>\n",
       "      <td>2014-03-13</td>\n",
       "      <td>121</td>\n",
       "    </tr>\n",
       "  </tbody>\n",
       "</table>\n",
       "</div>"
      ],
      "text/plain": [
       "   person_id inital_ADT_start_date_#1 inital_ADT_end_date_#1  \\\n",
       "0          2               2009-02-26             2017-02-01   \n",
       "1         13               2010-06-17             2018-05-17   \n",
       "2         18               2013-11-12             2014-03-13   \n",
       "\n",
       "   Inital_ADT_time_window_days_#1 inital_ADT_start_date_#2  \\\n",
       "0                          2897.0               2009-02-26   \n",
       "1                          2891.0               2010-06-17   \n",
       "2                           121.0               2013-11-12   \n",
       "\n",
       "  inital_ADT_end_date_#2 Inital_ADT_time_window_days_#2  \n",
       "0             2009-09-15                            201  \n",
       "1             2015-03-17                           1734  \n",
       "2             2014-03-13                            121  "
      ]
     },
     "execution_count": 111,
     "metadata": {},
     "output_type": "execute_result"
    }
   ],
   "source": [
    "df_adt_results_two_appos[:3]"
   ]
  },
  {
   "cell_type": "markdown",
   "metadata": {},
   "source": [
    "# OUTput results"
   ]
  },
  {
   "cell_type": "code",
   "execution_count": 112,
   "metadata": {},
   "outputs": [],
   "source": [
    "df_adt_results_two_appos.to_csv(\"./data/Two_approaches_#1#2_compare_ADT_windows_table.csv\",encoding='utf-8', index=False)"
   ]
  },
  {
   "cell_type": "markdown",
   "metadata": {},
   "source": [
    "# How many pts have baseline T test results? 507/1783 pts"
   ]
  },
  {
   "cell_type": "code",
   "execution_count": 113,
   "metadata": {},
   "outputs": [],
   "source": [
    "#work with two dataframes, df4 (for the adt info) and df_test\n",
    "df4=df_adt_results_notna\n",
    "list_adt_pt=df4[\"person_id\"].to_list()"
   ]
  },
  {
   "cell_type": "code",
   "execution_count": 136,
   "metadata": {},
   "outputs": [],
   "source": [
    "##get the baseline T dates and values\n",
    "result_baseline_list=[]\n",
    "pt_list=list_adt_pt\n",
    "\n",
    "for y in pt_list:\n",
    "#for y in [125]:\n",
    "\n",
    "    #print(y)    \n",
    "    df4_pt=df4[(df4[\"person_id\"] == y)]\n",
    "    \n",
    "    if(pd.isnull(df4_pt['inital_ADT_start_date'].iloc[0])):\n",
    "        a='NaN'\n",
    "        b='NaN'\n",
    "        gap=\"NaN\"\n",
    "        status='NaN'\n",
    "        tdate='NaN'\n",
    "        tvalue='NaN'\n",
    "        N_t_dates='NaN'\n",
    "        N_t_dates_beforeADT='NaN'\n",
    "            \n",
    "    if(pd.notnull(df4_pt['inital_ADT_start_date'].iloc[0])):\n",
    "        a=df4_pt['inital_ADT_start_date'].to_list()[0]\n",
    "        b=df4_pt['inital_ADT_end_date'].to_list()[0]\n",
    "        gap=df4_pt['Inital_ADT_time_window_days'].to_list()[0]\n",
    "\n",
    "        df_test_pt=df_test[(df_test[\"person_id\"] == y)]    \n",
    "        each_pt_tdates =df_test_pt['result_date'].to_list()\n",
    "\n",
    "        ##get rid of nan\n",
    "        cleaned_a=[]\n",
    "        cleaned_a= [x for x in each_pt_tdates if str(x) != 'NaN']\n",
    "        cleaned_aa= [x for x in cleaned_a if str(x) != 'nan']\n",
    "        cleaned_aaa= [x for x in cleaned_aa if str(x) != 'NaT']\n",
    "        N_t_dates=len(cleaned_aaa)\n",
    "\n",
    "        #only keep the ones before ADT start date, including on the day\n",
    "        cleaned_aaaa= [x for x in cleaned_aaa if x <=a]\n",
    "        start_sorted_bin=sorted(cleaned_aaaa)\n",
    "        N_t_dates_beforeADT=len(cleaned_aaaa) #including the date when adt started\n",
    "    \n",
    "        if(len(start_sorted_bin)==0):\n",
    "            tdate='NaN' \n",
    "            tvalue=\"NaN\"\n",
    "            #status means no baseline TT avail\n",
    "            status=\"N\"\n",
    "        #print(tdate)\n",
    "        \n",
    "        if(len(start_sorted_bin)>0):\n",
    "            #apply the closet function\n",
    "            #tdate=closest(start_sorted_bin,a)   \n",
    "            df_test_qualify_pt=df_test_pt[df_test_pt.result_date <=a]\n",
    "            \n",
    "            if not df_test_qualify_pt.empty:\n",
    "                tdate=df_test_qualify_pt['result_date'].to_list()[-1]\n",
    "                tvalue=df_test_qualify_pt['test_results'].to_list()[-1]\n",
    "                #status means yes there are baseline TT avail\n",
    "                status=\"Y\"\n",
    "\n",
    "    #print(y,a,b,gap, tdate,tvalue,status,N_t_dates,N_t_dates_beforeADT)\n",
    "    result_per_pt=[y,a,b,gap, tdate,tvalue, status, N_t_dates, N_t_dates_beforeADT]\n",
    "    result_baseline_list.append(result_per_pt)\n",
    "    #validate "
   ]
  },
  {
   "cell_type": "code",
   "execution_count": 137,
   "metadata": {},
   "outputs": [],
   "source": [
    "df_results_baseline=pd.DataFrame(result_baseline_list)\n",
    "df_results_baseline.columns=(['person_id', 'inital_ADT_start_date', 'inital_ADT_end_date', 'Inital_ADT_time_window_days', 'Tdate_justbeforeADT', 'Tvalue_justbeforeADT', \"baseline avail Status\", \"N_T_dates\",\"N_T_dates_beforeADT\"])"
   ]
  },
  {
   "cell_type": "code",
   "execution_count": 138,
   "metadata": {},
   "outputs": [
    {
     "data": {
      "text/html": [
       "<div>\n",
       "<style scoped>\n",
       "    .dataframe tbody tr th:only-of-type {\n",
       "        vertical-align: middle;\n",
       "    }\n",
       "\n",
       "    .dataframe tbody tr th {\n",
       "        vertical-align: top;\n",
       "    }\n",
       "\n",
       "    .dataframe thead th {\n",
       "        text-align: right;\n",
       "    }\n",
       "</style>\n",
       "<table border=\"1\" class=\"dataframe\">\n",
       "  <thead>\n",
       "    <tr style=\"text-align: right;\">\n",
       "      <th></th>\n",
       "      <th>person_id</th>\n",
       "      <th>inital_ADT_start_date</th>\n",
       "      <th>inital_ADT_end_date</th>\n",
       "      <th>Inital_ADT_time_window_days</th>\n",
       "      <th>Tdate_justbeforeADT</th>\n",
       "      <th>Tvalue_justbeforeADT</th>\n",
       "      <th>baseline avail Status</th>\n",
       "      <th>N_T_dates</th>\n",
       "      <th>N_T_dates_beforeADT</th>\n",
       "    </tr>\n",
       "  </thead>\n",
       "  <tbody>\n",
       "    <tr>\n",
       "      <td>0</td>\n",
       "      <td>2</td>\n",
       "      <td>2009-02-26</td>\n",
       "      <td>2009-09-15</td>\n",
       "      <td>201.0</td>\n",
       "      <td>2009-02-09</td>\n",
       "      <td>274.18</td>\n",
       "      <td>Y</td>\n",
       "      <td>82</td>\n",
       "      <td>20</td>\n",
       "    </tr>\n",
       "    <tr>\n",
       "      <td>1</td>\n",
       "      <td>13</td>\n",
       "      <td>2010-06-17</td>\n",
       "      <td>2015-03-17</td>\n",
       "      <td>1734.0</td>\n",
       "      <td>2009-09-18</td>\n",
       "      <td>23.72</td>\n",
       "      <td>Y</td>\n",
       "      <td>23</td>\n",
       "      <td>2</td>\n",
       "    </tr>\n",
       "    <tr>\n",
       "      <td>2</td>\n",
       "      <td>18</td>\n",
       "      <td>2013-11-12</td>\n",
       "      <td>2014-03-13</td>\n",
       "      <td>121.0</td>\n",
       "      <td>NaT</td>\n",
       "      <td>NaN</td>\n",
       "      <td>N</td>\n",
       "      <td>5</td>\n",
       "      <td>0</td>\n",
       "    </tr>\n",
       "    <tr>\n",
       "      <td>3</td>\n",
       "      <td>22</td>\n",
       "      <td>2010-09-27</td>\n",
       "      <td>2014-08-04</td>\n",
       "      <td>1407.0</td>\n",
       "      <td>NaT</td>\n",
       "      <td>NaN</td>\n",
       "      <td>N</td>\n",
       "      <td>3</td>\n",
       "      <td>0</td>\n",
       "    </tr>\n",
       "    <tr>\n",
       "      <td>4</td>\n",
       "      <td>25</td>\n",
       "      <td>2013-11-01</td>\n",
       "      <td>2014-02-18</td>\n",
       "      <td>109.0</td>\n",
       "      <td>2013-10-15</td>\n",
       "      <td>31.54</td>\n",
       "      <td>Y</td>\n",
       "      <td>12</td>\n",
       "      <td>1</td>\n",
       "    </tr>\n",
       "    <tr>\n",
       "      <td>5</td>\n",
       "      <td>26</td>\n",
       "      <td>2014-11-26</td>\n",
       "      <td>2016-06-01</td>\n",
       "      <td>553.0</td>\n",
       "      <td>NaT</td>\n",
       "      <td>NaN</td>\n",
       "      <td>N</td>\n",
       "      <td>14</td>\n",
       "      <td>0</td>\n",
       "    </tr>\n",
       "    <tr>\n",
       "      <td>6</td>\n",
       "      <td>37</td>\n",
       "      <td>2010-09-29</td>\n",
       "      <td>2016-09-02</td>\n",
       "      <td>2165.0</td>\n",
       "      <td>NaT</td>\n",
       "      <td>NaN</td>\n",
       "      <td>N</td>\n",
       "      <td>23</td>\n",
       "      <td>0</td>\n",
       "    </tr>\n",
       "    <tr>\n",
       "      <td>7</td>\n",
       "      <td>38</td>\n",
       "      <td>2015-11-18</td>\n",
       "      <td>2016-07-18</td>\n",
       "      <td>243.0</td>\n",
       "      <td>2015-11-18</td>\n",
       "      <td>288.37</td>\n",
       "      <td>Y</td>\n",
       "      <td>20</td>\n",
       "      <td>5</td>\n",
       "    </tr>\n",
       "    <tr>\n",
       "      <td>8</td>\n",
       "      <td>53</td>\n",
       "      <td>2013-02-25</td>\n",
       "      <td>2016-10-03</td>\n",
       "      <td>1316.0</td>\n",
       "      <td>2012-07-30</td>\n",
       "      <td>0.96</td>\n",
       "      <td>Y</td>\n",
       "      <td>26</td>\n",
       "      <td>1</td>\n",
       "    </tr>\n",
       "    <tr>\n",
       "      <td>9</td>\n",
       "      <td>81</td>\n",
       "      <td>2014-04-01</td>\n",
       "      <td>2016-06-09</td>\n",
       "      <td>800.0</td>\n",
       "      <td>NaT</td>\n",
       "      <td>NaN</td>\n",
       "      <td>N</td>\n",
       "      <td>12</td>\n",
       "      <td>0</td>\n",
       "    </tr>\n",
       "    <tr>\n",
       "      <td>10</td>\n",
       "      <td>95</td>\n",
       "      <td>2011-01-05</td>\n",
       "      <td>2014-04-23</td>\n",
       "      <td>1204.0</td>\n",
       "      <td>NaT</td>\n",
       "      <td>NaN</td>\n",
       "      <td>N</td>\n",
       "      <td>25</td>\n",
       "      <td>0</td>\n",
       "    </tr>\n",
       "    <tr>\n",
       "      <td>11</td>\n",
       "      <td>110</td>\n",
       "      <td>2013-03-12</td>\n",
       "      <td>2013-09-10</td>\n",
       "      <td>182.0</td>\n",
       "      <td>2013-03-12</td>\n",
       "      <td>28.52</td>\n",
       "      <td>Y</td>\n",
       "      <td>14</td>\n",
       "      <td>1</td>\n",
       "    </tr>\n",
       "    <tr>\n",
       "      <td>12</td>\n",
       "      <td>119</td>\n",
       "      <td>2013-07-02</td>\n",
       "      <td>2013-10-02</td>\n",
       "      <td>92.0</td>\n",
       "      <td>2013-06-17</td>\n",
       "      <td>403.1</td>\n",
       "      <td>Y</td>\n",
       "      <td>12</td>\n",
       "      <td>2</td>\n",
       "    </tr>\n",
       "    <tr>\n",
       "      <td>13</td>\n",
       "      <td>121</td>\n",
       "      <td>2013-04-01</td>\n",
       "      <td>2013-07-03</td>\n",
       "      <td>93.0</td>\n",
       "      <td>NaT</td>\n",
       "      <td>NaN</td>\n",
       "      <td>N</td>\n",
       "      <td>2</td>\n",
       "      <td>0</td>\n",
       "    </tr>\n",
       "    <tr>\n",
       "      <td>14</td>\n",
       "      <td>125</td>\n",
       "      <td>2016-01-01</td>\n",
       "      <td>2016-07-18</td>\n",
       "      <td>199.0</td>\n",
       "      <td>NaT</td>\n",
       "      <td>NaN</td>\n",
       "      <td>N</td>\n",
       "      <td>18</td>\n",
       "      <td>0</td>\n",
       "    </tr>\n",
       "  </tbody>\n",
       "</table>\n",
       "</div>"
      ],
      "text/plain": [
       "    person_id inital_ADT_start_date inital_ADT_end_date  \\\n",
       "0           2            2009-02-26          2009-09-15   \n",
       "1          13            2010-06-17          2015-03-17   \n",
       "2          18            2013-11-12          2014-03-13   \n",
       "3          22            2010-09-27          2014-08-04   \n",
       "4          25            2013-11-01          2014-02-18   \n",
       "5          26            2014-11-26          2016-06-01   \n",
       "6          37            2010-09-29          2016-09-02   \n",
       "7          38            2015-11-18          2016-07-18   \n",
       "8          53            2013-02-25          2016-10-03   \n",
       "9          81            2014-04-01          2016-06-09   \n",
       "10         95            2011-01-05          2014-04-23   \n",
       "11        110            2013-03-12          2013-09-10   \n",
       "12        119            2013-07-02          2013-10-02   \n",
       "13        121            2013-04-01          2013-07-03   \n",
       "14        125            2016-01-01          2016-07-18   \n",
       "\n",
       "    Inital_ADT_time_window_days Tdate_justbeforeADT Tvalue_justbeforeADT  \\\n",
       "0                         201.0          2009-02-09               274.18   \n",
       "1                        1734.0          2009-09-18                23.72   \n",
       "2                         121.0                 NaT                  NaN   \n",
       "3                        1407.0                 NaT                  NaN   \n",
       "4                         109.0          2013-10-15                31.54   \n",
       "5                         553.0                 NaT                  NaN   \n",
       "6                        2165.0                 NaT                  NaN   \n",
       "7                         243.0          2015-11-18               288.37   \n",
       "8                        1316.0          2012-07-30                 0.96   \n",
       "9                         800.0                 NaT                  NaN   \n",
       "10                       1204.0                 NaT                  NaN   \n",
       "11                        182.0          2013-03-12                28.52   \n",
       "12                         92.0          2013-06-17                403.1   \n",
       "13                         93.0                 NaT                  NaN   \n",
       "14                        199.0                 NaT                  NaN   \n",
       "\n",
       "   baseline avail Status  N_T_dates  N_T_dates_beforeADT  \n",
       "0                      Y         82                   20  \n",
       "1                      Y         23                    2  \n",
       "2                      N          5                    0  \n",
       "3                      N          3                    0  \n",
       "4                      Y         12                    1  \n",
       "5                      N         14                    0  \n",
       "6                      N         23                    0  \n",
       "7                      Y         20                    5  \n",
       "8                      Y         26                    1  \n",
       "9                      N         12                    0  \n",
       "10                     N         25                    0  \n",
       "11                     Y         14                    1  \n",
       "12                     Y         12                    2  \n",
       "13                     N          2                    0  \n",
       "14                     N         18                    0  "
      ]
     },
     "execution_count": 138,
     "metadata": {},
     "output_type": "execute_result"
    }
   ],
   "source": [
    "df_results_baseline[:15]"
   ]
  },
  {
   "cell_type": "code",
   "execution_count": 139,
   "metadata": {},
   "outputs": [
    {
     "name": "stdout",
     "output_type": "stream",
     "text": [
      "1525\n"
     ]
    }
   ],
   "source": [
    "print(len(df_results_baseline))"
   ]
  },
  {
   "cell_type": "code",
   "execution_count": 140,
   "metadata": {},
   "outputs": [
    {
     "name": "stdout",
     "output_type": "stream",
     "text": [
      "1525\n",
      "507\n"
     ]
    }
   ],
   "source": [
    "df_results_baseline_avail= df_results_baseline[df_results_baseline[\"baseline avail Status\"]==\"Y\"]\n",
    "print(shape(df_results_baseline)[0])\n",
    "print(shape(df_results_baseline_avail)[0])"
   ]
  },
  {
   "cell_type": "markdown",
   "metadata": {},
   "source": [
    "# Baseline Total Testosterone Histogram<a class=\"anchor\" id=\"fifth-bullet\"></a>"
   ]
  },
  {
   "cell_type": "code",
   "execution_count": 141,
   "metadata": {},
   "outputs": [
    {
     "data": {
      "image/png": "[encoded data removed]",
      "text/plain": [
       "<Figure size 432x288 with 1 Axes>"
      ]
     },
     "metadata": {},
     "output_type": "display_data"
    }
   ],
   "source": [
    "baseline_tt= df_results_baseline_avail[[\"Tvalue_justbeforeADT\"]].reset_index()\n",
    "baseline_tt.fillna('', inplace=True)\n",
    "ax=baseline_tt.plot.scatter(x= \"index\", y=\"Tvalue_justbeforeADT\", c='DarkBlue')"
   ]
  },
  {
   "cell_type": "code",
   "execution_count": 142,
   "metadata": {},
   "outputs": [
    {
     "data": {
      "image/png": "[encoded data removed]",
      "text/plain": [
       "<Figure size 576x360 with 1 Axes>"
      ]
     },
     "metadata": {},
     "output_type": "display_data"
    }
   ],
   "source": [
    "###plot the T value histogram\n",
    "\n",
    "sns.set_style(\"darkgrid\")\n",
    "sns.set_context(\"poster\", font_scale=0.6, rc={\"lines.linewidth\": 2})\n",
    "binsize=75\n",
    "\n",
    "bins=np.arange(0, 800, binsize)\n",
    "fig, ax = plt.subplots(figsize = (8,5))\n",
    "\n",
    "(n, bins, patches) = plt.hist(baseline_tt[\"Tvalue_justbeforeADT\"], bins=bins,color=\"green\", alpha=0.4)\n",
    "\n",
    "#decorate\n",
    "\n",
    "plt.title(\"Baseline Total Testosterone, Bin Size=\"+ str(int(binsize)),fontsize=18)\n",
    "plt.xlabel(\"T-value\", fontsize=16, fontweight=\"bold\",color=\"gray\")\n",
    "plt.ylabel(\"Population\", fontsize=16,fontweight=\"bold\", color=\"gray\")\n",
    "\n",
    "ax.set_xticks(np.arange(0, 800, 100))\n",
    "ax.set_xticklabels(np.arange(0, 800, 100))\n",
    "\n",
    "# plot the label/text to each bin\n",
    "for i in range(0, len(n)):\n",
    "    x_pos = (bins[i + 1] - bins[i])/4 + bins[i]\n",
    "    y_pos = n[i] + 0.2\n",
    "    label = str(int(n[i])) # relative frequency of each bin\n",
    "    ax.text(x_pos, y_pos, label,fontsize=16,fontweight=\"bold\",color=\"gray\" )\n",
    "    ax.xaxis.tick_bottom()"
   ]
  },
  {
   "cell_type": "markdown",
   "metadata": {},
   "source": [
    "# how many have ADT duration =0?"
   ]
  },
  {
   "cell_type": "code",
   "execution_count": 143,
   "metadata": {},
   "outputs": [
    {
     "name": "stdout",
     "output_type": "stream",
     "text": [
      "0\n"
     ]
    }
   ],
   "source": [
    "df_results_baseline_ADTzero=df_results_baseline[df_results_baseline[\"Inital_ADT_time_window_days\"]<=0]\n",
    "print(len(df_results_baseline_ADTzero))"
   ]
  },
  {
   "cell_type": "code",
   "execution_count": 144,
   "metadata": {},
   "outputs": [
    {
     "data": {
      "text/html": [
       "<div>\n",
       "<style scoped>\n",
       "    .dataframe tbody tr th:only-of-type {\n",
       "        vertical-align: middle;\n",
       "    }\n",
       "\n",
       "    .dataframe tbody tr th {\n",
       "        vertical-align: top;\n",
       "    }\n",
       "\n",
       "    .dataframe thead th {\n",
       "        text-align: right;\n",
       "    }\n",
       "</style>\n",
       "<table border=\"1\" class=\"dataframe\">\n",
       "  <thead>\n",
       "    <tr style=\"text-align: right;\">\n",
       "      <th></th>\n",
       "      <th>person_id</th>\n",
       "      <th>inital_ADT_start_date</th>\n",
       "      <th>inital_ADT_end_date</th>\n",
       "      <th>Inital_ADT_time_window_days</th>\n",
       "      <th>Tdate_justbeforeADT</th>\n",
       "      <th>Tvalue_justbeforeADT</th>\n",
       "      <th>baseline avail Status</th>\n",
       "      <th>N_T_dates</th>\n",
       "      <th>N_T_dates_beforeADT</th>\n",
       "    </tr>\n",
       "  </thead>\n",
       "  <tbody>\n",
       "  </tbody>\n",
       "</table>\n",
       "</div>"
      ],
      "text/plain": [
       "Empty DataFrame\n",
       "Columns: [person_id, inital_ADT_start_date, inital_ADT_end_date, Inital_ADT_time_window_days, Tdate_justbeforeADT, Tvalue_justbeforeADT, baseline avail Status, N_T_dates, N_T_dates_beforeADT]\n",
       "Index: []"
      ]
     },
     "execution_count": 144,
     "metadata": {},
     "output_type": "execute_result"
    }
   ],
   "source": [
    "df_results_baseline_ADTzero"
   ]
  },
  {
   "cell_type": "code",
   "execution_count": 145,
   "metadata": {},
   "outputs": [],
   "source": [
    "#output this table \n",
    "df_results_baseline.to_csv(\"./data/sean_big_cohort_approach2_1783pts_with_adt_window_and_baseline_info_Feb24_2021.csv\",encoding='utf-8', index=False)\n",
    "df_results_baseline_avail.to_csv(\"./data/sean_big_cohort_approach2_507pts_with_adt_window_and_baseline_T_Feb24_2021.csv\",encoding='utf-8', index=False)"
   ]
  },
  {
   "cell_type": "markdown",
   "metadata": {},
   "source": [
    "# For the 507 pts with T baseline, how many recovery how many non recovery? #df_results_baseline"
   ]
  },
  {
   "cell_type": "markdown",
   "metadata": {},
   "source": [
    "# T recovery threshold = 75.0 ng/dL"
   ]
  },
  {
   "cell_type": "code",
   "execution_count": 146,
   "metadata": {},
   "outputs": [
    {
     "name": "stderr",
     "output_type": "stream",
     "text": [
      "/Users/yuqincai/opt/anaconda3/lib/python3.7/site-packages/ipykernel_launcher.py:49: UserWarning: Boolean Series key will be reindexed to match DataFrame index.\n",
      "/Users/yuqincai/opt/anaconda3/lib/python3.7/site-packages/ipykernel_launcher.py:50: UserWarning: Boolean Series key will be reindexed to match DataFrame index.\n"
     ]
    }
   ],
   "source": [
    "#work with two dataframes, df4 (for the adt info) and df_test\n",
    "#df4=df_adt_results_notna\n",
    "#list_adt_pt=df4[\"person_id\"].to_list()\n",
    "df1=df_results_baseline_avail\n",
    "df2=df_test\n",
    "result_status_list_baseline75=[]\n",
    "\n",
    "list_adt_pt_baselineavail=df_results_baseline_avail['person_id'].to_list()\n",
    "\n",
    "for y in list_adt_pt_baselineavail:     \n",
    "    df1_pt=df1[(df1[\"person_id\"] == y)]\n",
    "\n",
    "    if(pd.isnull(df1_pt['inital_ADT_end_date'].iloc[0])):\n",
    "        b='NaN'\n",
    "        #gap='NaN'\n",
    "        tdate='NaN'\n",
    "        tvalue='NaN'\n",
    "        status=\"NaN\"\n",
    "        N_t_dates='NaN'\n",
    "        N_t_dates_afterADT='NaN'\n",
    "\n",
    "    #if(df1_pt.inital_ADT_end_date.values.any()!=\"\"):\n",
    "    if(pd.notnull(df1_pt['inital_ADT_end_date'].iloc[0])):\n",
    "\n",
    "        b=df1_pt['inital_ADT_end_date'].to_list()[0]\n",
    "        \n",
    "        df2_pt=df2[(df2[\"person_id\"] == y)]    \n",
    "        each_pt_tdates = df2_pt['result_date'].to_list()\n",
    "\n",
    "        ##get rid of nan\n",
    "        cleaned_a=[]\n",
    "        cleaned_a= [x for x in each_pt_tdates if str(x) != 'NaN']\n",
    "        cleaned_aa= [x for x in cleaned_a if str(x) != 'nan']\n",
    "        cleaned_aaa= [x for x in cleaned_aa if str(x) != 'NaT']\n",
    "        N_t_dates=len(cleaned_aaa)\n",
    "\n",
    "        #only keep the ones after ADT end date including on the day\n",
    "        cleaned_aaaa= [x for x in cleaned_aaa if x >=b]\n",
    "        start_sorted_bin=sorted(cleaned_aaaa)\n",
    "        N_t_dates_afterADT=len(cleaned_aaaa)\n",
    "   \n",
    "        if(len(start_sorted_bin)==0):\n",
    "            tdate='NaN' \n",
    "            tvalue=\"NaN\"\n",
    "            status=\"NaN\"\n",
    "\n",
    "#get the 75\n",
    "        if(len(start_sorted_bin)>0):\n",
    "            df3_pt=df2_pt[df2_pt.test_results >=75][df2_pt.result_date >=b]\n",
    "            df4_pt=df2_pt[df2_pt.test_results <75][df2_pt.result_date >=b]\n",
    "\n",
    "            if not df3_pt.empty:\n",
    "                status =\"Y\"\n",
    "                tdate=df3_pt['result_date'].to_list()[0]\n",
    "                tvalue=df3_pt['test_results'].to_list()[0]\n",
    "            \n",
    "            #if not df4_pt.empty:\n",
    "            if df3_pt.empty:\n",
    "                status =\"N\"\n",
    "                tdate=df4_pt['result_date'].to_list()[-1]\n",
    "                tvalue=df4_pt['test_results'].to_list()[-1]\n",
    "    \n",
    "    #print(y, b, tdate, tvalue,status, N_t_dates,N_t_dates_afterADT)\n",
    "    result_status_per_pt=[y,b,tdate, tvalue, status,N_t_dates,N_t_dates_afterADT]\n",
    "    result_status_list_baseline75.append(result_status_per_pt)"
   ]
  },
  {
   "cell_type": "code",
   "execution_count": 147,
   "metadata": {},
   "outputs": [
    {
     "name": "stdout",
     "output_type": "stream",
     "text": [
      "pts with ADT window and T baseline:\n",
      "507\n",
      "pts with ADT window and T baseline and T recovery:\n",
      "157\n",
      "pts with ADT window and T baseline and T NON recovery:\n",
      "141\n",
      "pts with ADT window and T baseline and T test unavial:\n",
      "209\n"
     ]
    }
   ],
   "source": [
    "dfbaseline_recovery_result75=pd.DataFrame(result_status_list_baseline75)\n",
    "dfbaseline_recovery_result75.columns=(['person_id', 'inital_ADT_end_date', 'Tdate_rec_norec75', 'Tvalue_rec_norec75', 'Status75',\"N_T_dates\",\"N_T_dates_afterADT\"])\n",
    "\n",
    "dfbaseline_recovery_result75_recovery=dfbaseline_recovery_result75[dfbaseline_recovery_result75[\"Status75\"]==\"Y\"]\n",
    "dfbaseline_recovery_result75_nonrecovery=dfbaseline_recovery_result75[dfbaseline_recovery_result75[\"Status75\"]==\"N\"]\n",
    "dfbaseline_recovery_result75_nan=dfbaseline_recovery_result75[dfbaseline_recovery_result75[\"Status75\"]==\"NaN\"]\n",
    "\n",
    "dfbaseline_recovery_result75[:5]\n",
    "\n",
    "print(\"pts with ADT window and T baseline:\")\n",
    "print(shape(dfbaseline_recovery_result75)[0])\n",
    "print(\"pts with ADT window and T baseline and T recovery:\")\n",
    "print(shape(dfbaseline_recovery_result75_recovery)[0])\n",
    "print(\"pts with ADT window and T baseline and T NON recovery:\")\n",
    "print(shape(dfbaseline_recovery_result75_nonrecovery)[0])\n",
    "print(\"pts with ADT window and T baseline and T test unavial:\")\n",
    "print(shape(dfbaseline_recovery_result75_nan)[0])\n",
    "\n",
    "dfbaseline_recovery_result75.to_csv(\"sean_big_cohort_approach2_pts_with_adt_window_and_baseline_T_and_recovery_status75ngdL_Feb24_2021.csv\",encoding='utf-8', index=False)"
   ]
  },
  {
   "cell_type": "code",
   "execution_count": 148,
   "metadata": {},
   "outputs": [],
   "source": [
    "#get the pt list for sql input\n",
    "\n",
    "recovery75_pt_list=dfbaseline_recovery_result75_recovery['person_id'].to_list()\n",
    "nonrecovery75_pt_list=dfbaseline_recovery_result75_nonrecovery['person_id'].to_list()"
   ]
  },
  {
   "cell_type": "markdown",
   "metadata": {},
   "source": [
    "# T recovery threshold = 300.0 ng/dL"
   ]
  },
  {
   "cell_type": "code",
   "execution_count": 150,
   "metadata": {},
   "outputs": [
    {
     "data": {
      "text/html": [
       "<div>\n",
       "<style scoped>\n",
       "    .dataframe tbody tr th:only-of-type {\n",
       "        vertical-align: middle;\n",
       "    }\n",
       "\n",
       "    .dataframe tbody tr th {\n",
       "        vertical-align: top;\n",
       "    }\n",
       "\n",
       "    .dataframe thead th {\n",
       "        text-align: right;\n",
       "    }\n",
       "</style>\n",
       "<table border=\"1\" class=\"dataframe\">\n",
       "  <thead>\n",
       "    <tr style=\"text-align: right;\">\n",
       "      <th></th>\n",
       "      <th>person_id</th>\n",
       "      <th>inital_ADT_start_date</th>\n",
       "      <th>inital_ADT_end_date</th>\n",
       "      <th>Inital_ADT_time_window_days</th>\n",
       "      <th>Tdate_justbeforeADT</th>\n",
       "      <th>Tvalue_justbeforeADT</th>\n",
       "      <th>baseline avail Status</th>\n",
       "      <th>N_T_dates</th>\n",
       "      <th>N_T_dates_beforeADT</th>\n",
       "    </tr>\n",
       "  </thead>\n",
       "  <tbody>\n",
       "    <tr>\n",
       "      <td>0</td>\n",
       "      <td>2</td>\n",
       "      <td>2009-02-26</td>\n",
       "      <td>2009-09-15</td>\n",
       "      <td>201.0</td>\n",
       "      <td>2009-02-09</td>\n",
       "      <td>274.18</td>\n",
       "      <td>Y</td>\n",
       "      <td>82</td>\n",
       "      <td>20</td>\n",
       "    </tr>\n",
       "    <tr>\n",
       "      <td>1</td>\n",
       "      <td>13</td>\n",
       "      <td>2010-06-17</td>\n",
       "      <td>2015-03-17</td>\n",
       "      <td>1734.0</td>\n",
       "      <td>2009-09-18</td>\n",
       "      <td>23.72</td>\n",
       "      <td>Y</td>\n",
       "      <td>23</td>\n",
       "      <td>2</td>\n",
       "    </tr>\n",
       "    <tr>\n",
       "      <td>4</td>\n",
       "      <td>25</td>\n",
       "      <td>2013-11-01</td>\n",
       "      <td>2014-02-18</td>\n",
       "      <td>109.0</td>\n",
       "      <td>2013-10-15</td>\n",
       "      <td>31.54</td>\n",
       "      <td>Y</td>\n",
       "      <td>12</td>\n",
       "      <td>1</td>\n",
       "    </tr>\n",
       "    <tr>\n",
       "      <td>7</td>\n",
       "      <td>38</td>\n",
       "      <td>2015-11-18</td>\n",
       "      <td>2016-07-18</td>\n",
       "      <td>243.0</td>\n",
       "      <td>2015-11-18</td>\n",
       "      <td>288.37</td>\n",
       "      <td>Y</td>\n",
       "      <td>20</td>\n",
       "      <td>5</td>\n",
       "    </tr>\n",
       "    <tr>\n",
       "      <td>8</td>\n",
       "      <td>53</td>\n",
       "      <td>2013-02-25</td>\n",
       "      <td>2016-10-03</td>\n",
       "      <td>1316.0</td>\n",
       "      <td>2012-07-30</td>\n",
       "      <td>0.96</td>\n",
       "      <td>Y</td>\n",
       "      <td>26</td>\n",
       "      <td>1</td>\n",
       "    </tr>\n",
       "  </tbody>\n",
       "</table>\n",
       "</div>"
      ],
      "text/plain": [
       "   person_id inital_ADT_start_date inital_ADT_end_date  \\\n",
       "0          2            2009-02-26          2009-09-15   \n",
       "1         13            2010-06-17          2015-03-17   \n",
       "4         25            2013-11-01          2014-02-18   \n",
       "7         38            2015-11-18          2016-07-18   \n",
       "8         53            2013-02-25          2016-10-03   \n",
       "\n",
       "   Inital_ADT_time_window_days Tdate_justbeforeADT Tvalue_justbeforeADT  \\\n",
       "0                        201.0          2009-02-09               274.18   \n",
       "1                       1734.0          2009-09-18                23.72   \n",
       "4                        109.0          2013-10-15                31.54   \n",
       "7                        243.0          2015-11-18               288.37   \n",
       "8                       1316.0          2012-07-30                 0.96   \n",
       "\n",
       "  baseline avail Status  N_T_dates  N_T_dates_beforeADT  \n",
       "0                     Y         82                   20  \n",
       "1                     Y         23                    2  \n",
       "4                     Y         12                    1  \n",
       "7                     Y         20                    5  \n",
       "8                     Y         26                    1  "
      ]
     },
     "execution_count": 150,
     "metadata": {},
     "output_type": "execute_result"
    }
   ],
   "source": [
    "df1[:5]"
   ]
  },
  {
   "cell_type": "code",
   "execution_count": 151,
   "metadata": {},
   "outputs": [
    {
     "name": "stderr",
     "output_type": "stream",
     "text": [
      "/Users/yuqincai/opt/anaconda3/lib/python3.7/site-packages/ipykernel_launcher.py:51: UserWarning: Boolean Series key will be reindexed to match DataFrame index.\n",
      "/Users/yuqincai/opt/anaconda3/lib/python3.7/site-packages/ipykernel_launcher.py:52: UserWarning: Boolean Series key will be reindexed to match DataFrame index.\n"
     ]
    }
   ],
   "source": [
    "##test test test: non recovery pts count should not be zero\n",
    "\n",
    "#work with two dataframes, df4 (for the adt info) and df_test\n",
    "#df4=df_adt_results_notna\n",
    "#list_adt_pt=df4[\"person_id\"].to_list()\n",
    "df1=df_results_baseline_avail\n",
    "df2=df_test\n",
    "result_status_list_baseline300=[]\n",
    "\n",
    "list_adt_pt_baselineavail=df_results_baseline_avail['person_id'].to_list()\n",
    "\n",
    "for y in list_adt_pt_baselineavail:     \n",
    "    df1_pt=df1[(df1[\"person_id\"] == y)]\n",
    "\n",
    "    if(pd.isnull(df1_pt['inital_ADT_end_date'].iloc[0])):\n",
    "        b='NaN'\n",
    "        gap='NaN'\n",
    "        tdate='NaN'\n",
    "        tvalue='NaN'\n",
    "        status=\"NaN\"\n",
    "        N_t_dates='NaN'\n",
    "        N_t_dates_afterADT='NaN'\n",
    "\n",
    "    #if(df1_pt.inital_ADT_end_date.values.any()!=\"\"):\n",
    "    if(pd.notnull(df1_pt['inital_ADT_end_date'].iloc[0])):\n",
    "\n",
    "        b=df1_pt['inital_ADT_end_date'].to_list()[0]\n",
    "        gap=df1_pt['Inital_ADT_time_window_days'].to_list()[0]       \n",
    "        df2_pt=df2[(df2[\"person_id\"] == y)]    \n",
    "        each_pt_tdates = df2_pt['result_date'].to_list()\n",
    "\n",
    "        ##get rid of nan\n",
    "        cleaned_a=[]\n",
    "        cleaned_a= [x for x in each_pt_tdates if str(x) != 'NaN']\n",
    "        cleaned_aa= [x for x in cleaned_a if str(x) != 'nan']\n",
    "        cleaned_aaa= [x for x in cleaned_aa if str(x) != 'NaT']\n",
    "        N_t_dates=len(cleaned_aaa)\n",
    "\n",
    "        #only keep the ones after ADT end date including on the day\n",
    "        cleaned_aaaa= [x for x in cleaned_aaa if x >=b]\n",
    "        start_sorted_bin=sorted(cleaned_aaaa)\n",
    "        N_t_dates_afterADT=len(cleaned_aaaa)\n",
    "   \n",
    "        if(len(start_sorted_bin)==0):\n",
    "            tdate='NaN' \n",
    "            tvalue=\"NaN\"\n",
    "            status=\"NaN\"\n",
    "\n",
    "#get the 300\n",
    "        if(len(start_sorted_bin)>0):\n",
    "            df3_pt=df2_pt[df2_pt.test_results >=300][df2_pt.result_date >=b]\n",
    "            df4_pt=df2_pt[df2_pt.test_results <300][df2_pt.result_date >=b]\n",
    "\n",
    "            if not df3_pt.empty:\n",
    "                status =\"Y\"\n",
    "                tdate=df3_pt['result_date'].to_list()[0]\n",
    "                tvalue=df3_pt['test_results'].to_list()[0]\n",
    "            \n",
    "            #if not df4_pt.empty:\n",
    "            if df3_pt.empty:\n",
    "                status =\"N\"\n",
    "                tdate=df4_pt['result_date'].to_list()[-1]\n",
    "                tvalue=df4_pt['test_results'].to_list()[-1]\n",
    "    \n",
    "    #print(y, b, gap, tdate, tvalue,status, N_t_dates,N_t_dates_afterADT)\n",
    "    result_status_per_pt=[y,b,gap, tdate, tvalue, status,N_t_dates,N_t_dates_afterADT]\n",
    "    result_status_list_baseline300.append(result_status_per_pt)"
   ]
  },
  {
   "cell_type": "code",
   "execution_count": 152,
   "metadata": {},
   "outputs": [
    {
     "data": {
      "text/html": [
       "<div>\n",
       "<style scoped>\n",
       "    .dataframe tbody tr th:only-of-type {\n",
       "        vertical-align: middle;\n",
       "    }\n",
       "\n",
       "    .dataframe tbody tr th {\n",
       "        vertical-align: top;\n",
       "    }\n",
       "\n",
       "    .dataframe thead th {\n",
       "        text-align: right;\n",
       "    }\n",
       "</style>\n",
       "<table border=\"1\" class=\"dataframe\">\n",
       "  <thead>\n",
       "    <tr style=\"text-align: right;\">\n",
       "      <th></th>\n",
       "      <th>person_id</th>\n",
       "      <th>inital_ADT_end_date</th>\n",
       "      <th>Inital_ADT_time_window_days</th>\n",
       "      <th>Tdate_rec_norec300</th>\n",
       "      <th>Tvalue_rec_norec300</th>\n",
       "      <th>Status300</th>\n",
       "      <th>N_T_dates</th>\n",
       "      <th>N_T_dates_afterADT</th>\n",
       "    </tr>\n",
       "  </thead>\n",
       "  <tbody>\n",
       "    <tr>\n",
       "      <td>0</td>\n",
       "      <td>2</td>\n",
       "      <td>2009-09-15</td>\n",
       "      <td>201.0</td>\n",
       "      <td>2017-04-11</td>\n",
       "      <td>4.8</td>\n",
       "      <td>N</td>\n",
       "      <td>82</td>\n",
       "      <td>61</td>\n",
       "    </tr>\n",
       "    <tr>\n",
       "      <td>1</td>\n",
       "      <td>13</td>\n",
       "      <td>2015-03-17</td>\n",
       "      <td>1734.0</td>\n",
       "      <td>2017-12-14</td>\n",
       "      <td>4.33</td>\n",
       "      <td>N</td>\n",
       "      <td>23</td>\n",
       "      <td>15</td>\n",
       "    </tr>\n",
       "    <tr>\n",
       "      <td>2</td>\n",
       "      <td>25</td>\n",
       "      <td>2014-02-18</td>\n",
       "      <td>109.0</td>\n",
       "      <td>2020-01-21</td>\n",
       "      <td>238.49</td>\n",
       "      <td>N</td>\n",
       "      <td>12</td>\n",
       "      <td>11</td>\n",
       "    </tr>\n",
       "    <tr>\n",
       "      <td>3</td>\n",
       "      <td>38</td>\n",
       "      <td>2016-07-18</td>\n",
       "      <td>243.0</td>\n",
       "      <td>2018-04-16</td>\n",
       "      <td>317.16</td>\n",
       "      <td>Y</td>\n",
       "      <td>20</td>\n",
       "      <td>13</td>\n",
       "    </tr>\n",
       "    <tr>\n",
       "      <td>4</td>\n",
       "      <td>53</td>\n",
       "      <td>2016-10-03</td>\n",
       "      <td>1316.0</td>\n",
       "      <td>NaT</td>\n",
       "      <td>NaN</td>\n",
       "      <td>NaN</td>\n",
       "      <td>26</td>\n",
       "      <td>0</td>\n",
       "    </tr>\n",
       "  </tbody>\n",
       "</table>\n",
       "</div>"
      ],
      "text/plain": [
       "   person_id inital_ADT_end_date  Inital_ADT_time_window_days  \\\n",
       "0          2          2009-09-15                        201.0   \n",
       "1         13          2015-03-17                       1734.0   \n",
       "2         25          2014-02-18                        109.0   \n",
       "3         38          2016-07-18                        243.0   \n",
       "4         53          2016-10-03                       1316.0   \n",
       "\n",
       "  Tdate_rec_norec300 Tvalue_rec_norec300 Status300  N_T_dates  \\\n",
       "0         2017-04-11                 4.8         N         82   \n",
       "1         2017-12-14                4.33         N         23   \n",
       "2         2020-01-21              238.49         N         12   \n",
       "3         2018-04-16              317.16         Y         20   \n",
       "4                NaT                 NaN       NaN         26   \n",
       "\n",
       "   N_T_dates_afterADT  \n",
       "0                  61  \n",
       "1                  15  \n",
       "2                  11  \n",
       "3                  13  \n",
       "4                   0  "
      ]
     },
     "execution_count": 152,
     "metadata": {},
     "output_type": "execute_result"
    }
   ],
   "source": [
    "dfbaseline_recovery_result300=pd.DataFrame(result_status_list_baseline300)\n",
    "dfbaseline_recovery_result300.columns=(['person_id', 'inital_ADT_end_date','Inital_ADT_time_window_days', 'Tdate_rec_norec300', 'Tvalue_rec_norec300', 'Status300',\"N_T_dates\",\"N_T_dates_afterADT\"])\n",
    "\n",
    "dfbaseline_recovery_result300_recovery=dfbaseline_recovery_result300[dfbaseline_recovery_result300[\"Status300\"]==\"Y\"]\n",
    "dfbaseline_recovery_result300_nonrecovery=dfbaseline_recovery_result300[dfbaseline_recovery_result300[\"Status300\"]==\"N\"]\n",
    "\n",
    "dfbaseline_recovery_result300[:5]"
   ]
  },
  {
   "cell_type": "code",
   "execution_count": 153,
   "metadata": {},
   "outputs": [
    {
     "name": "stdout",
     "output_type": "stream",
     "text": [
      "507\n",
      "99\n",
      "199\n"
     ]
    }
   ],
   "source": [
    "print(shape(dfbaseline_recovery_result300)[0])\n",
    "print(shape(dfbaseline_recovery_result300_recovery)[0])\n",
    "print(shape(dfbaseline_recovery_result300_nonrecovery)[0])\n",
    "\n",
    "dfbaseline_recovery_result300['ADT_to_T'] = dfbaseline_recovery_result300['Tdate_rec_norec300'] - dfbaseline_recovery_result300['inital_ADT_end_date']\n",
    "dfbaseline_recovery_result300['ADT_to_T_days']=dfbaseline_recovery_result300['ADT_to_T'].dt.days\n",
    "\n",
    "dfbaseline_recovery_result300.to_csv(\"sean_big_cohort_approach2_pts_with_adt_window_and_baseline_T_and_recovery_status300ngdL_Feb24_2021_4PM.csv\",encoding='utf-8', index=False)"
   ]
  },
  {
   "cell_type": "code",
   "execution_count": 156,
   "metadata": {},
   "outputs": [
    {
     "data": {
      "text/html": [
       "<div>\n",
       "<style scoped>\n",
       "    .dataframe tbody tr th:only-of-type {\n",
       "        vertical-align: middle;\n",
       "    }\n",
       "\n",
       "    .dataframe tbody tr th {\n",
       "        vertical-align: top;\n",
       "    }\n",
       "\n",
       "    .dataframe thead th {\n",
       "        text-align: right;\n",
       "    }\n",
       "</style>\n",
       "<table border=\"1\" class=\"dataframe\">\n",
       "  <thead>\n",
       "    <tr style=\"text-align: right;\">\n",
       "      <th></th>\n",
       "      <th>person_id</th>\n",
       "      <th>inital_ADT_end_date</th>\n",
       "      <th>Inital_ADT_time_window_days</th>\n",
       "      <th>Tdate_rec_norec300</th>\n",
       "      <th>Tvalue_rec_norec300</th>\n",
       "      <th>Status300</th>\n",
       "      <th>N_T_dates</th>\n",
       "      <th>N_T_dates_afterADT</th>\n",
       "      <th>ADT_to_T</th>\n",
       "      <th>ADT_to_T_days</th>\n",
       "    </tr>\n",
       "  </thead>\n",
       "  <tbody>\n",
       "    <tr>\n",
       "      <td>0</td>\n",
       "      <td>2</td>\n",
       "      <td>2009-09-15</td>\n",
       "      <td>201.0</td>\n",
       "      <td>2017-04-11</td>\n",
       "      <td>4.8</td>\n",
       "      <td>N</td>\n",
       "      <td>82</td>\n",
       "      <td>61</td>\n",
       "      <td>2765 days</td>\n",
       "      <td>2765.0</td>\n",
       "    </tr>\n",
       "    <tr>\n",
       "      <td>1</td>\n",
       "      <td>13</td>\n",
       "      <td>2015-03-17</td>\n",
       "      <td>1734.0</td>\n",
       "      <td>2017-12-14</td>\n",
       "      <td>4.33</td>\n",
       "      <td>N</td>\n",
       "      <td>23</td>\n",
       "      <td>15</td>\n",
       "      <td>1003 days</td>\n",
       "      <td>1003.0</td>\n",
       "    </tr>\n",
       "    <tr>\n",
       "      <td>2</td>\n",
       "      <td>25</td>\n",
       "      <td>2014-02-18</td>\n",
       "      <td>109.0</td>\n",
       "      <td>2020-01-21</td>\n",
       "      <td>238.49</td>\n",
       "      <td>N</td>\n",
       "      <td>12</td>\n",
       "      <td>11</td>\n",
       "      <td>2163 days</td>\n",
       "      <td>2163.0</td>\n",
       "    </tr>\n",
       "  </tbody>\n",
       "</table>\n",
       "</div>"
      ],
      "text/plain": [
       "   person_id inital_ADT_end_date  Inital_ADT_time_window_days  \\\n",
       "0          2          2009-09-15                        201.0   \n",
       "1         13          2015-03-17                       1734.0   \n",
       "2         25          2014-02-18                        109.0   \n",
       "\n",
       "  Tdate_rec_norec300 Tvalue_rec_norec300 Status300  N_T_dates  \\\n",
       "0         2017-04-11                 4.8         N         82   \n",
       "1         2017-12-14                4.33         N         23   \n",
       "2         2020-01-21              238.49         N         12   \n",
       "\n",
       "   N_T_dates_afterADT  ADT_to_T  ADT_to_T_days  \n",
       "0                  61 2765 days         2765.0  \n",
       "1                  15 1003 days         1003.0  \n",
       "2                  11 2163 days         2163.0  "
      ]
     },
     "execution_count": 156,
     "metadata": {},
     "output_type": "execute_result"
    }
   ],
   "source": [
    "dfbaseline_recovery_result300[:3]"
   ]
  },
  {
   "cell_type": "code",
   "execution_count": 157,
   "metadata": {},
   "outputs": [
    {
     "name": "stdout",
     "output_type": "stream",
     "text": [
      "298\n"
     ]
    }
   ],
   "source": [
    "#approach #2; \n",
    "dfbaseline_result300_valid=dfbaseline_recovery_result300[dfbaseline_recovery_result300[\"Status300\"]!=\"NaN\"]\n",
    "print(len(dfbaseline_result300_valid))"
   ]
  },
  {
   "cell_type": "markdown",
   "metadata": {},
   "source": [
    "# How many pts have ADT to T recovery time not zero"
   ]
  },
  {
   "cell_type": "code",
   "execution_count": 158,
   "metadata": {},
   "outputs": [
    {
     "name": "stdout",
     "output_type": "stream",
     "text": [
      "252\n"
     ]
    }
   ],
   "source": [
    "#dfbaseline_recovery_result300['ADT_to_T'] = dfbaseline_recovery_result300['Tdate_rec_norec300'] - dfbaseline_recovery_result300['inital_ADT_end_date']\n",
    "#dfbaseline_recovery_result300['ADT_to_T_days']=dfbaseline_recovery_result300['ADT_to_T'].dt.days\n",
    "\n",
    "dfbaseline_result300_valid_adt_t_notzero=dfbaseline_result300_valid[dfbaseline_result300_valid['ADT_to_T_days']!=0]\n",
    "print(len(dfbaseline_result300_valid_adt_t_notzero))"
   ]
  },
  {
   "cell_type": "code",
   "execution_count": 161,
   "metadata": {},
   "outputs": [
    {
     "data": {
      "text/html": [
       "<div>\n",
       "<style scoped>\n",
       "    .dataframe tbody tr th:only-of-type {\n",
       "        vertical-align: middle;\n",
       "    }\n",
       "\n",
       "    .dataframe tbody tr th {\n",
       "        vertical-align: top;\n",
       "    }\n",
       "\n",
       "    .dataframe thead th {\n",
       "        text-align: right;\n",
       "    }\n",
       "</style>\n",
       "<table border=\"1\" class=\"dataframe\">\n",
       "  <thead>\n",
       "    <tr style=\"text-align: right;\">\n",
       "      <th></th>\n",
       "      <th>person_id</th>\n",
       "      <th>inital_ADT_end_date</th>\n",
       "      <th>Inital_ADT_time_window_days</th>\n",
       "      <th>Tdate_rec_norec300</th>\n",
       "      <th>Tvalue_rec_norec300</th>\n",
       "      <th>Status300</th>\n",
       "      <th>N_T_dates</th>\n",
       "      <th>N_T_dates_afterADT</th>\n",
       "      <th>ADT_to_T</th>\n",
       "      <th>ADT_to_T_days</th>\n",
       "    </tr>\n",
       "  </thead>\n",
       "  <tbody>\n",
       "    <tr>\n",
       "      <td>0</td>\n",
       "      <td>2</td>\n",
       "      <td>2009-09-15</td>\n",
       "      <td>201.0</td>\n",
       "      <td>2017-04-11</td>\n",
       "      <td>4.8</td>\n",
       "      <td>N</td>\n",
       "      <td>82</td>\n",
       "      <td>61</td>\n",
       "      <td>2765 days</td>\n",
       "      <td>2765.0</td>\n",
       "    </tr>\n",
       "    <tr>\n",
       "      <td>1</td>\n",
       "      <td>13</td>\n",
       "      <td>2015-03-17</td>\n",
       "      <td>1734.0</td>\n",
       "      <td>2017-12-14</td>\n",
       "      <td>4.33</td>\n",
       "      <td>N</td>\n",
       "      <td>23</td>\n",
       "      <td>15</td>\n",
       "      <td>1003 days</td>\n",
       "      <td>1003.0</td>\n",
       "    </tr>\n",
       "    <tr>\n",
       "      <td>2</td>\n",
       "      <td>25</td>\n",
       "      <td>2014-02-18</td>\n",
       "      <td>109.0</td>\n",
       "      <td>2020-01-21</td>\n",
       "      <td>238.49</td>\n",
       "      <td>N</td>\n",
       "      <td>12</td>\n",
       "      <td>11</td>\n",
       "      <td>2163 days</td>\n",
       "      <td>2163.0</td>\n",
       "    </tr>\n",
       "  </tbody>\n",
       "</table>\n",
       "</div>"
      ],
      "text/plain": [
       "   person_id inital_ADT_end_date  Inital_ADT_time_window_days  \\\n",
       "0          2          2009-09-15                        201.0   \n",
       "1         13          2015-03-17                       1734.0   \n",
       "2         25          2014-02-18                        109.0   \n",
       "\n",
       "  Tdate_rec_norec300 Tvalue_rec_norec300 Status300  N_T_dates  \\\n",
       "0         2017-04-11                 4.8         N         82   \n",
       "1         2017-12-14                4.33         N         23   \n",
       "2         2020-01-21              238.49         N         12   \n",
       "\n",
       "   N_T_dates_afterADT  ADT_to_T  ADT_to_T_days  \n",
       "0                  61 2765 days         2765.0  \n",
       "1                  15 1003 days         1003.0  \n",
       "2                  11 2163 days         2163.0  "
      ]
     },
     "execution_count": 161,
     "metadata": {},
     "output_type": "execute_result"
    }
   ],
   "source": [
    "dfbaseline_result300_valid_adt_t_notzero[:3]"
   ]
  },
  {
   "cell_type": "code",
   "execution_count": 162,
   "metadata": {},
   "outputs": [
    {
     "name": "stdout",
     "output_type": "stream",
     "text": [
      "252\n"
     ]
    }
   ],
   "source": [
    "df_app2_finalcohort=dfbaseline_result300_valid_adt_t_notzero[dfbaseline_result300_valid_adt_t_notzero['Inital_ADT_time_window_days']>0]\n",
    "print(len(df_app2_finalcohort))"
   ]
  },
  {
   "cell_type": "code",
   "execution_count": 163,
   "metadata": {},
   "outputs": [
    {
     "name": "stdout",
     "output_type": "stream",
     "text": [
      "99\n",
      "199\n"
     ]
    }
   ],
   "source": [
    "#get the pt list for sql input\n",
    "\n",
    "dfbaseline_recovery_result300_recovery.to_csv(\"rec300_fixbugs_approach#2.csv\",encoding='utf-8', index=False)\n",
    "dfbaseline_recovery_result300_nonrecovery.to_csv(\"nonrec300_fixbugs_approach#2.csv\",encoding='utf-8', index=False)\n",
    "#check if this list is different for the one without dealing with duplicated date issue\n",
    "\n",
    "app2_rec300_pt_list=dfbaseline_recovery_result300_recovery[\"person_id\"].to_list()\n",
    "app2_nonrec300_pt_list=dfbaseline_recovery_result300_nonrecovery[\"person_id\"].to_list()\n",
    "print(len(app2_rec300_pt_list))\n",
    "print(len(app2_nonrec300_pt_list))"
   ]
  },
  {
   "cell_type": "code",
   "execution_count": 164,
   "metadata": {},
   "outputs": [
    {
     "name": "stdout",
     "output_type": "stream",
     "text": [
      "154\n"
     ]
    }
   ],
   "source": [
    "app2_rec300_pt_list_finalcohort=dfbaseline_result300_valid_adt_t_notzero[dfbaseline_result300_valid_adt_t_notzero['Status300']=='N']\n",
    "app2_rec300_pt_list_finalcohort_pt_list=app2_rec300_pt_list_finalcohort[\"person_id\"].to_list()\n",
    "print(len(app2_rec300_pt_list_finalcohort_pt_list))"
   ]
  },
  {
   "cell_type": "markdown",
   "metadata": {},
   "source": [
    "# How many of the T recovery and non recovery are overlaped for approach #2 and #3?"
   ]
  },
  {
   "cell_type": "code",
   "execution_count": 167,
   "metadata": {},
   "outputs": [],
   "source": [
    "dfbaseline_recovery_result300_recovery.to_csv(\"./data/rec300_fixbugs_approach#2.csv\",encoding='utf-8', index=False)\n",
    "dfbaseline_recovery_result300_nonrecovery.to_csv(\"./data/nonrec300_fixbugs_approach#2.csv\",encoding='utf-8', index=False)"
   ]
  },
  {
   "cell_type": "code",
   "execution_count": 168,
   "metadata": {},
   "outputs": [],
   "source": [
    "df_final_cohort_approach3=pd.read_csv(\"./data/sean_big_cohort_approach#3_pts_ADT_T_notzero_ptlist.csv\", header=0)"
   ]
  },
  {
   "cell_type": "code",
   "execution_count": 169,
   "metadata": {},
   "outputs": [
    {
     "name": "stdout",
     "output_type": "stream",
     "text": [
      "221\n",
      "31\n",
      "58\n"
     ]
    }
   ],
   "source": [
    "app2_final_cohort_pt_list=df_app2_finalcohort[\"person_id\"].to_list()\n",
    "app3_final_cohort_pt_list=df_final_cohort_approach3[\"person_id\"].to_list()\n",
    "\n",
    "pts_app2_app3=[x for x in app2_final_cohort_pt_list if x in app3_final_cohort_pt_list]\n",
    "pts_app2_not_app3=[x for x in app2_final_cohort_pt_list if x not in app3_final_cohort_pt_list]\n",
    "pts_app3_not_app2=[x for x in app3_final_cohort_pt_list if x not in app2_final_cohort_pt_list]\n",
    "\n",
    "print(len(pts_app2_app3))\n",
    "print(len(pts_app2_not_app3))\n",
    "print(len(pts_app3_not_app2))\n",
    "\n",
    "#save the list for QC\n",
    "df_pts_app2_app3_list=DataFrame(pts_app2_app3,columns=['pt_id'])\n",
    "df_pts_app2_not_app3_list=DataFrame(pts_app2_not_app3,columns=['pt_id'])\n",
    "df_pts_pts_app3_not_app2_list=DataFrame(pts_app3_not_app2,columns=['pt_id'])\n",
    "\n",
    "df_pts_app2_app3_list.to_csv(\"221pts_app2_app3_shared_list.csv\",encoding='utf-8', index=False)\n",
    "df_pts_app2_not_app3_list.to_csv(\"31pts_app2_not_app3_list.csv\",encoding='utf-8', index=False)\n",
    "df_pts_pts_app3_not_app2_list.to_csv(\"58pts_app3_not_app2_list.csv\",encoding='utf-8', index=False)"
   ]
  },
  {
   "cell_type": "code",
   "execution_count": 173,
   "metadata": {},
   "outputs": [
    {
     "ename": "NameError",
     "evalue": "name 'df_rec300_fixbugs_approach3' is not defined",
     "output_type": "error",
     "traceback": [
      "\u001b[0;31m---------------------------------------------------------------------------\u001b[0m",
      "\u001b[0;31mNameError\u001b[0m                                 Traceback (most recent call last)",
      "\u001b[0;32m<ipython-input-173-b5bfe1168bbf>\u001b[0m in \u001b[0;36m<module>\u001b[0;34m\u001b[0m\n\u001b[1;32m      1\u001b[0m \u001b[0mdf_final_cohort_approach3\u001b[0m\u001b[0;34m=\u001b[0m\u001b[0mpd\u001b[0m\u001b[0;34m.\u001b[0m\u001b[0mread_csv\u001b[0m\u001b[0;34m(\u001b[0m\u001b[0;34m\"./data/sean_big_cohort_approach#3_pts_ADT_T_notzero_ptlist.csv\"\u001b[0m\u001b[0;34m,\u001b[0m \u001b[0mheader\u001b[0m\u001b[0;34m=\u001b[0m\u001b[0;36m0\u001b[0m\u001b[0;34m)\u001b[0m\u001b[0;34m\u001b[0m\u001b[0;34m\u001b[0m\u001b[0m\n\u001b[1;32m      2\u001b[0m \u001b[0;34m\u001b[0m\u001b[0m\n\u001b[0;32m----> 3\u001b[0;31m \u001b[0mdf_rec300_fixbugs_approach3\u001b[0m\u001b[0;34m.\u001b[0m\u001b[0mcolumns\u001b[0m\u001b[0;34m=\u001b[0m\u001b[0;34m(\u001b[0m\u001b[0;34m[\u001b[0m\u001b[0;34m'person_id'\u001b[0m\u001b[0;34m]\u001b[0m\u001b[0;34m)\u001b[0m\u001b[0;34m\u001b[0m\u001b[0;34m\u001b[0m\u001b[0m\n\u001b[0m\u001b[1;32m      4\u001b[0m \u001b[0mdf_nonrec300_fixbugs_approach3\u001b[0m\u001b[0;34m.\u001b[0m\u001b[0mcolumns\u001b[0m\u001b[0;34m=\u001b[0m\u001b[0;34m(\u001b[0m\u001b[0;34m[\u001b[0m\u001b[0;34m'person_id'\u001b[0m\u001b[0;34m]\u001b[0m\u001b[0;34m)\u001b[0m\u001b[0;34m\u001b[0m\u001b[0;34m\u001b[0m\u001b[0m\n\u001b[1;32m      5\u001b[0m \u001b[0;34m\u001b[0m\u001b[0m\n",
      "\u001b[0;31mNameError\u001b[0m: name 'df_rec300_fixbugs_approach3' is not defined"
     ]
    }
   ],
   "source": [
    "df_final_cohort_approach3=pd.read_csv(\"./data/sean_big_cohort_approach#3_pts_ADT_T_notzero_ptlist.csv\", header=0)\n",
    "\n",
    "df_rec300_fixbugs_approach3.columns=(['person_id'])\n",
    "df_nonrec300_fixbugs_approach3.columns=(['person_id'])\n",
    "\n",
    "app3_rec300_pt_list=df_rec300_fixbugs_approach3[\"person_id\"].to_list()\n",
    "app3_nonrec300_pt_list=df_nonrec300_fixbugs__approach3[\"person_id\"].to_list()\n",
    "\n",
    "pts_rec300_shared_app2_app3=[x for x in app3_rec300_pt_list if x in app2_rec300_pt_list]\n",
    "pts_rec300_shared_app2_not_app3=[x for x in app2_rec300_pt_list if x not in app3_rec300_pt_list]\n",
    "pts_rec300_shared_app3_not_app2=[x for x in app3_rec300_pt_list if x not in app2_rec300_pt_list]\n",
    "\n",
    "pts_nonrec300_shared_app2_app3=[x for x in app3_nonrec300_pt_list if x in app2_nonrec300_pt_list]\n",
    "pts_nonrec300_shared_app2_app3=[x for x in app3_nonrec300_pt_list if x not in app2_nonrec300_pt_list]"
   ]
  },
  {
   "cell_type": "code",
   "execution_count": 171,
   "metadata": {},
   "outputs": [
    {
     "ename": "NameError",
     "evalue": "name 'pts_rec300_shared_app2_app3' is not defined",
     "output_type": "error",
     "traceback": [
      "\u001b[0;31m---------------------------------------------------------------------------\u001b[0m",
      "\u001b[0;31mNameError\u001b[0m                                 Traceback (most recent call last)",
      "\u001b[0;32m<ipython-input-171-b8ebe5cc5275>\u001b[0m in \u001b[0;36m<module>\u001b[0;34m\u001b[0m\n\u001b[0;32m----> 1\u001b[0;31m \u001b[0mprint\u001b[0m\u001b[0;34m(\u001b[0m\u001b[0mlen\u001b[0m\u001b[0;34m(\u001b[0m\u001b[0mpts_rec300_shared_app2_app3\u001b[0m\u001b[0;34m)\u001b[0m\u001b[0;34m)\u001b[0m\u001b[0;34m\u001b[0m\u001b[0;34m\u001b[0m\u001b[0m\n\u001b[0m",
      "\u001b[0;31mNameError\u001b[0m: name 'pts_rec300_shared_app2_app3' is not defined"
     ]
    }
   ],
   "source": [
    "print(len(pts_rec300_shared_app2_app3))"
   ]
  },
  {
   "cell_type": "code",
   "execution_count": null,
   "metadata": {},
   "outputs": [],
   "source": [
    "pts_finalcohort_shared_app2_app3=[x for x in app3_rec300_pt_list+app3_nonrec300_pt_list if x in app2_rec300_pt_list+app2_nonrec300_pt_list]\n",
    "print(len(pts_finalcohort_shared_app2_app3))"
   ]
  },
  {
   "cell_type": "code",
   "execution_count": null,
   "metadata": {},
   "outputs": [],
   "source": [
    "pts_finalcohort_shared_app2_not_app3=[x for x in app2_rec300_pt_list+app2_nonrec300_pt_list if x not in app3_rec300_pt_list+app3_nonrec300_pt_list]\n",
    "print(len(pts_finalcohort_shared_app2_not_app3))"
   ]
  },
  {
   "cell_type": "code",
   "execution_count": null,
   "metadata": {},
   "outputs": [],
   "source": [
    "pts_finalcohort_shared_app3_not_app2=[x for x in app3_rec300_pt_list+app3_nonrec300_pt_list if x not in app2_rec300_pt_list+app2_nonrec300_pt_list]\n",
    "print(len(pts_finalcohort_shared_app3_not_app2))"
   ]
  },
  {
   "cell_type": "code",
   "execution_count": null,
   "metadata": {},
   "outputs": [],
   "source": [
    "pts_rec300_shared_app2_not_app3=[x for x in app2_rec300_pt_list if x not in app3_rec300_pt_list]\n",
    "print(len(pts_rec300_shared_app2_not_app3))"
   ]
  },
  {
   "cell_type": "code",
   "execution_count": null,
   "metadata": {},
   "outputs": [],
   "source": [
    "pts_rec300_shared_app3_not_app2=[x for x in app3_rec300_pt_list if x not in app2_rec300_pt_list]\n",
    "print(len(pts_rec300_shared_app3_not_app2))"
   ]
  },
  {
   "cell_type": "code",
   "execution_count": null,
   "metadata": {},
   "outputs": [],
   "source": [
    "# get rid of the ADT_T =0 patients"
   ]
  },
  {
   "cell_type": "code",
   "execution_count": null,
   "metadata": {},
   "outputs": [],
   "source": [
    "df_2and3=DataFrame(pts_nonrec300_shared_app2_app3,columns=['pt_id'])\n",
    "df_2not3=DataFrame(pts_rec300_shared_app2_not_app3,columns=['pt_id'])\n",
    "df_3not2=DataFrame(pts_rec300_shared_app3_not_app2,columns=['pt_id'])\n",
    "\n",
    "df_2and3.to_csv(\"rec300_2and3.csv\",encoding='utf-8', index=False)\n",
    "df_2not3.to_csv(\"rec300_2not3.csv\",encoding='utf-8', index=False)\n",
    "df_3not2.to_csv(\"rec300_3not2.csv\",encoding='utf-8', index=False)"
   ]
  },
  {
   "cell_type": "markdown",
   "metadata": {},
   "source": [
    "# For the final cohort, what is the baseline T distribution ?"
   ]
  },
  {
   "cell_type": "code",
   "execution_count": 175,
   "metadata": {},
   "outputs": [],
   "source": [
    "##get the baseline T dates and values\n",
    "result_baseline_list=[]\n",
    "#pt_list=app2_final_cohort_pt_list\n",
    "#pt_list=app2_rec300_pt_list\n",
    "#pt_list=app2_nonrec300_pt_list\n",
    "pt_list=app2_rec300_pt_list_finalcohort_pt_list\n",
    "\n",
    "for y in pt_list:\n",
    "#for y in [125]:\n",
    "\n",
    "    #print(y)    \n",
    "    df4_pt=df4[(df4[\"person_id\"] == y)]\n",
    "    \n",
    "    if(pd.isnull(df4_pt['inital_ADT_start_date'].iloc[0])):\n",
    "        a='NaN'\n",
    "        b='NaN'\n",
    "        gap=\"NaN\"\n",
    "        status='NaN'\n",
    "        tdate='NaN'\n",
    "        tvalue='NaN'\n",
    "        N_t_dates='NaN'\n",
    "        N_t_dates_beforeADT='NaN'\n",
    "            \n",
    "    if(pd.notnull(df4_pt['inital_ADT_start_date'].iloc[0])):\n",
    "        a=df4_pt['inital_ADT_start_date'].to_list()[0]\n",
    "        b=df4_pt['inital_ADT_end_date'].to_list()[0]\n",
    "        gap=df4_pt['Inital_ADT_time_window_days'].to_list()[0]\n",
    "\n",
    "        df_test_pt=df_test[(df_test[\"person_id\"] == y)]    \n",
    "        each_pt_tdates =df_test_pt['result_date'].to_list()\n",
    "\n",
    "        ##get rid of nan\n",
    "        cleaned_a=[]\n",
    "        cleaned_a= [x for x in each_pt_tdates if str(x) != 'NaN']\n",
    "        cleaned_aa= [x for x in cleaned_a if str(x) != 'nan']\n",
    "        cleaned_aaa= [x for x in cleaned_aa if str(x) != 'NaT']\n",
    "        N_t_dates=len(cleaned_aaa)\n",
    "\n",
    "        #only keep the ones before ADT start date, including on the day\n",
    "        cleaned_aaaa= [x for x in cleaned_aaa if x <=a]\n",
    "        start_sorted_bin=sorted(cleaned_aaaa)\n",
    "        N_t_dates_beforeADT=len(cleaned_aaaa) #including the date when adt started\n",
    "    \n",
    "        if(len(start_sorted_bin)==0):\n",
    "            tdate='NaN' \n",
    "            tvalue=\"NaN\"\n",
    "            #status means no baseline TT avail\n",
    "            status=\"N\"\n",
    "        #print(tdate)\n",
    "        \n",
    "        if(len(start_sorted_bin)>0):\n",
    "            #apply the closet function\n",
    "            #tdate=closest(start_sorted_bin,a)   \n",
    "            df_test_qualify_pt=df_test_pt[df_test_pt.result_date <=a]\n",
    "            \n",
    "            if not df_test_qualify_pt.empty:\n",
    "                tdate=df_test_qualify_pt['result_date'].to_list()[-1]\n",
    "                tvalue=df_test_qualify_pt['test_results'].to_list()[-1]\n",
    "                #status means yes there are baseline TT avail\n",
    "                status=\"Y\"\n",
    "\n",
    "    #print(y,a,b,gap, tdate,tvalue,status,N_t_dates,N_t_dates_beforeADT)\n",
    "    result_per_pt=[y,a,b,gap, tdate,tvalue, status, N_t_dates, N_t_dates_beforeADT]\n",
    "    result_baseline_list.append(result_per_pt)\n",
    "    #validate "
   ]
  },
  {
   "cell_type": "code",
   "execution_count": 176,
   "metadata": {},
   "outputs": [],
   "source": [
    "df_final_cohort_results_baseline=pd.DataFrame(result_baseline_list)\n",
    "df_final_cohort_results_baseline.columns=(['person_id', 'inital_ADT_start_date', 'inital_ADT_end_date', 'Inital_ADT_time_window_days', 'Tdate_justbeforeADT', 'Tvalue_justbeforeADT', \"baseline avail Status\", \"N_T_dates\",\"N_T_dates_beforeADT\"])"
   ]
  },
  {
   "cell_type": "code",
   "execution_count": 177,
   "metadata": {},
   "outputs": [
    {
     "data": {
      "image/png": "[encoded data removed]",
      "text/plain": [
       "<Figure size 432x288 with 1 Axes>"
      ]
     },
     "metadata": {},
     "output_type": "display_data"
    }
   ],
   "source": [
    "baseline_tt=df_final_cohort_results_baseline[[\"Tvalue_justbeforeADT\"]].reset_index()\n",
    "baseline_tt.fillna('', inplace=True)\n",
    "ax=baseline_tt.plot.scatter(x= \"index\", y=\"Tvalue_justbeforeADT\", c='DarkBlue')"
   ]
  },
  {
   "cell_type": "code",
   "execution_count": 178,
   "metadata": {},
   "outputs": [
    {
     "name": "stdout",
     "output_type": "stream",
     "text": [
      "154\n"
     ]
    }
   ],
   "source": [
    "print(len(baseline_tt))"
   ]
  },
  {
   "cell_type": "code",
   "execution_count": 182,
   "metadata": {},
   "outputs": [
    {
     "data": {
      "image/png": "[encoded data removed]",
      "text/plain": [
       "<Figure size 576x360 with 1 Axes>"
      ]
     },
     "metadata": {},
     "output_type": "display_data"
    }
   ],
   "source": [
    "###plot the T value histogram\n",
    "\n",
    "sns.set_style(\"darkgrid\")\n",
    "sns.set_context(\"poster\", font_scale=0.6, rc={\"lines.linewidth\": 2})\n",
    "binsize=75\n",
    "\n",
    "bins=np.arange(0, 800, binsize)\n",
    "fig, ax = plt.subplots(figsize = (8,5))\n",
    "\n",
    "(n, bins, patches) = plt.hist(baseline_tt[\"Tvalue_justbeforeADT\"], bins=bins,color=\"black\", alpha=0.4)\n",
    "\n",
    "#decorate\n",
    "\n",
    "plt.title(\"Baseline Total Testosterone, Bin Size=\"+ str(int(binsize)),fontsize=18)\n",
    "plt.xlabel(\"T-value\", fontsize=16, fontweight=\"bold\",color=\"gray\")\n",
    "plt.ylabel(\"Population\", fontsize=16,fontweight=\"bold\", color=\"gray\")\n",
    "\n",
    "ax.set_xticks(np.arange(0, 800, 100))\n",
    "ax.set_xticklabels(np.arange(0, 800, 100))\n",
    "\n",
    "# plot the label/text to each bin\n",
    "for i in range(0, len(n)):\n",
    "    x_pos = (bins[i + 1] - bins[i])/4 + bins[i]\n",
    "    y_pos = n[i] + 0.2\n",
    "    label = str(int(n[i])) # relative frequency of each bin\n",
    "    ax.text(x_pos, y_pos, label,fontsize=16,fontweight=\"bold\",color=\"gray\" )\n",
    "    ax.xaxis.tick_bottom()"
   ]
  },
  {
   "cell_type": "code",
   "execution_count": null,
   "metadata": {},
   "outputs": [],
   "source": []
  }
 ],
 "metadata": {
  "kernelspec": {
   "display_name": "Python 3",
   "language": "python",
   "name": "python3"
  },
  "language_info": {
   "codemirror_mode": {
    "name": "ipython",
    "version": 3
   },
   "file_extension": ".py",
   "mimetype": "text/x-python",
   "name": "python",
   "nbconvert_exporter": "python",
   "pygments_lexer": "ipython3",
   "version": "3.7.4"
  }
 },
 "nbformat": 4,
 "nbformat_minor": 2
}
